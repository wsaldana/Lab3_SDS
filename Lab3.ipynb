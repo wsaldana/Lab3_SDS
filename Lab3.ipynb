{
 "cells": [
  {
   "cell_type": "markdown",
   "id": "3256f47d",
   "metadata": {},
   "source": [
    "Universidad del Valle de Guatemala <br>\n",
    "Security Data Science\n",
    "\n",
    "# LABORATORIO 3\n",
    "## Clasificación de Malware\n",
    "\n",
    "Walter Saldaña #19897\n",
    "___"
   ]
  },
  {
   "cell_type": "markdown",
   "id": "4b7c39d5",
   "metadata": {},
   "source": [
    "importar librerias"
   ]
  },
  {
   "cell_type": "code",
   "execution_count": 1,
   "id": "dd75e89b",
   "metadata": {},
   "outputs": [
    {
     "name": "stderr",
     "output_type": "stream",
     "text": [
      "/home/walt/.local/lib/python3.9/site-packages/xgboost/compat.py:31: FutureWarning: pandas.Int64Index is deprecated and will be removed from pandas in a future version. Use pandas.Index with the appropriate dtype instead.\n",
      "  from pandas import MultiIndex, Int64Index\n"
     ]
    }
   ],
   "source": [
    "import pandas as pd\n",
    "from sklearn import preprocessing\n",
    "from sklearn.svm import SVC\n",
    "from sklearn.model_selection import train_test_split\n",
    "from sklearn.model_selection import KFold, cross_val_score \n",
    "from sklearn.metrics import accuracy_score, precision_score, recall_score\n",
    "from xgboost import XGBClassifier"
   ]
  },
  {
   "cell_type": "markdown",
   "id": "bca1010c",
   "metadata": {},
   "source": [
    "cargar datos"
   ]
  },
  {
   "cell_type": "code",
   "execution_count": 2,
   "id": "173187a2",
   "metadata": {},
   "outputs": [],
   "source": [
    "df = pd.read_csv('VirusSample.csv')"
   ]
  },
  {
   "cell_type": "code",
   "execution_count": 3,
   "id": "6734c37c",
   "metadata": {},
   "outputs": [
    {
     "data": {
      "text/html": [
       "<div>\n",
       "<style scoped>\n",
       "    .dataframe tbody tr th:only-of-type {\n",
       "        vertical-align: middle;\n",
       "    }\n",
       "\n",
       "    .dataframe tbody tr th {\n",
       "        vertical-align: top;\n",
       "    }\n",
       "\n",
       "    .dataframe thead th {\n",
       "        text-align: right;\n",
       "    }\n",
       "</style>\n",
       "<table border=\"1\" class=\"dataframe\">\n",
       "  <thead>\n",
       "    <tr style=\"text-align: right;\">\n",
       "      <th></th>\n",
       "      <th>file</th>\n",
       "      <th>api</th>\n",
       "      <th>class</th>\n",
       "    </tr>\n",
       "  </thead>\n",
       "  <tbody>\n",
       "    <tr>\n",
       "      <th>0</th>\n",
       "      <td>7ff49f2f0912352416b05c010f35f402cc79feed</td>\n",
       "      <td>IntersectRect,GetCurrentProcess,GetVersion</td>\n",
       "      <td>Virus</td>\n",
       "    </tr>\n",
       "    <tr>\n",
       "      <th>1</th>\n",
       "      <td>50cc6c99ec285d0db45dde07d8fdc18d9098c5b6</td>\n",
       "      <td>GetCaretBlinkTime,CountClipboardFormats,GetCon...</td>\n",
       "      <td>Virus</td>\n",
       "    </tr>\n",
       "    <tr>\n",
       "      <th>2</th>\n",
       "      <td>f77c6bd4aebacd1a01d02e0cb20642ebf2d32929</td>\n",
       "      <td>VarR8Pow,GetClipboardViewer,GetInputDesktop,Ge...</td>\n",
       "      <td>Virus</td>\n",
       "    </tr>\n",
       "    <tr>\n",
       "      <th>3</th>\n",
       "      <td>349c367c5b88fbb6cafae5d7109588d7250e16b5</td>\n",
       "      <td>SetTraceCallback,CopyAcceleratorTableW,GetProc...</td>\n",
       "      <td>Virus</td>\n",
       "    </tr>\n",
       "    <tr>\n",
       "      <th>4</th>\n",
       "      <td>021f4aa86b520e1d606ab26699c35546bcd00c27</td>\n",
       "      <td>SHLoadNonloadedIconOverlayIdentifiers,VarUI8Fr...</td>\n",
       "      <td>Virus</td>\n",
       "    </tr>\n",
       "  </tbody>\n",
       "</table>\n",
       "</div>"
      ],
      "text/plain": [
       "                                       file  \\\n",
       "0  7ff49f2f0912352416b05c010f35f402cc79feed   \n",
       "1  50cc6c99ec285d0db45dde07d8fdc18d9098c5b6   \n",
       "2  f77c6bd4aebacd1a01d02e0cb20642ebf2d32929   \n",
       "3  349c367c5b88fbb6cafae5d7109588d7250e16b5   \n",
       "4  021f4aa86b520e1d606ab26699c35546bcd00c27   \n",
       "\n",
       "                                                 api  class  \n",
       "0         IntersectRect,GetCurrentProcess,GetVersion  Virus  \n",
       "1  GetCaretBlinkTime,CountClipboardFormats,GetCon...  Virus  \n",
       "2  VarR8Pow,GetClipboardViewer,GetInputDesktop,Ge...  Virus  \n",
       "3  SetTraceCallback,CopyAcceleratorTableW,GetProc...  Virus  \n",
       "4  SHLoadNonloadedIconOverlayIdentifiers,VarUI8Fr...  Virus  "
      ]
     },
     "execution_count": 3,
     "metadata": {},
     "output_type": "execute_result"
    }
   ],
   "source": [
    "df.head()"
   ]
  },
  {
   "cell_type": "markdown",
   "id": "b3a2ac01",
   "metadata": {},
   "source": [
    "# Análisis exploratorio"
   ]
  },
  {
   "cell_type": "markdown",
   "id": "71ca0caa",
   "metadata": {},
   "source": [
    "Estadística descriptiva"
   ]
  },
  {
   "cell_type": "code",
   "execution_count": 4,
   "id": "ab7a5904",
   "metadata": {},
   "outputs": [
    {
     "data": {
      "text/html": [
       "<div>\n",
       "<style scoped>\n",
       "    .dataframe tbody tr th:only-of-type {\n",
       "        vertical-align: middle;\n",
       "    }\n",
       "\n",
       "    .dataframe tbody tr th {\n",
       "        vertical-align: top;\n",
       "    }\n",
       "\n",
       "    .dataframe thead th {\n",
       "        text-align: right;\n",
       "    }\n",
       "</style>\n",
       "<table border=\"1\" class=\"dataframe\">\n",
       "  <thead>\n",
       "    <tr style=\"text-align: right;\">\n",
       "      <th></th>\n",
       "      <th>file</th>\n",
       "      <th>api</th>\n",
       "      <th>class</th>\n",
       "    </tr>\n",
       "  </thead>\n",
       "  <tbody>\n",
       "    <tr>\n",
       "      <th>count</th>\n",
       "      <td>9795</td>\n",
       "      <td>9795</td>\n",
       "      <td>9795</td>\n",
       "    </tr>\n",
       "    <tr>\n",
       "      <th>unique</th>\n",
       "      <td>9795</td>\n",
       "      <td>2980</td>\n",
       "      <td>13</td>\n",
       "    </tr>\n",
       "    <tr>\n",
       "      <th>top</th>\n",
       "      <td>7ff49f2f0912352416b05c010f35f402cc79feed</td>\n",
       "      <td>LoadLibraryA,GetProcAddress</td>\n",
       "      <td>Trojan</td>\n",
       "    </tr>\n",
       "    <tr>\n",
       "      <th>freq</th>\n",
       "      <td>1</td>\n",
       "      <td>1007</td>\n",
       "      <td>6153</td>\n",
       "    </tr>\n",
       "  </tbody>\n",
       "</table>\n",
       "</div>"
      ],
      "text/plain": [
       "                                            file                          api  \\\n",
       "count                                       9795                         9795   \n",
       "unique                                      9795                         2980   \n",
       "top     7ff49f2f0912352416b05c010f35f402cc79feed  LoadLibraryA,GetProcAddress   \n",
       "freq                                           1                         1007   \n",
       "\n",
       "         class  \n",
       "count     9795  \n",
       "unique      13  \n",
       "top     Trojan  \n",
       "freq      6153  "
      ]
     },
     "execution_count": 4,
     "metadata": {},
     "output_type": "execute_result"
    }
   ],
   "source": [
    "df.describe()"
   ]
  },
  {
   "cell_type": "markdown",
   "id": "7615a62c",
   "metadata": {},
   "source": [
    "Tipos de datos dentro del dataset"
   ]
  },
  {
   "cell_type": "code",
   "execution_count": 5,
   "id": "4d79d7c4",
   "metadata": {},
   "outputs": [
    {
     "data": {
      "text/plain": [
       "file     object\n",
       "api      object\n",
       "class    object\n",
       "dtype: object"
      ]
     },
     "execution_count": 5,
     "metadata": {},
     "output_type": "execute_result"
    }
   ],
   "source": [
    "df.dtypes"
   ]
  },
  {
   "cell_type": "markdown",
   "id": "5a736b91",
   "metadata": {},
   "source": [
    "Distintas clases que contiene el dataset"
   ]
  },
  {
   "cell_type": "code",
   "execution_count": 6,
   "id": "6ca8f670",
   "metadata": {},
   "outputs": [
    {
     "data": {
      "text/plain": [
       "array(['Virus', 'Riskware', 'Spyware', 'Downloader', 'Dropper', 'Agent',\n",
       "       'Adware', 'Trojan', 'Backdoor', 'Worms', 'Ransomware', 'Keylogger',\n",
       "       'Crypt'], dtype=object)"
      ]
     },
     "execution_count": 6,
     "metadata": {},
     "output_type": "execute_result"
    }
   ],
   "source": [
    "df['class'].unique()"
   ]
  },
  {
   "cell_type": "markdown",
   "id": "621d4cc4",
   "metadata": {},
   "source": [
    "Distribución de las clases"
   ]
  },
  {
   "cell_type": "code",
   "execution_count": 7,
   "id": "bc1599e9",
   "metadata": {},
   "outputs": [
    {
     "data": {
      "text/plain": [
       "class\n",
       "Keylogger        1\n",
       "Crypt            2\n",
       "Dropper          4\n",
       "Riskware         4\n",
       "Ransomware      10\n",
       "Spyware         11\n",
       "Downloader      31\n",
       "Agent          102\n",
       "Adware         222\n",
       "Worms          441\n",
       "Backdoor       447\n",
       "Virus         2367\n",
       "Trojan        6153\n",
       "Name: file, dtype: int64"
      ]
     },
     "execution_count": 7,
     "metadata": {},
     "output_type": "execute_result"
    }
   ],
   "source": [
    "df.groupby('class')['file'].count().sort_values()"
   ]
  },
  {
   "cell_type": "markdown",
   "id": "de5d4b18",
   "metadata": {},
   "source": [
    "Búsqueda de datos incompletos o inválidos"
   ]
  },
  {
   "cell_type": "code",
   "execution_count": 8,
   "id": "7ccd5431",
   "metadata": {},
   "outputs": [
    {
     "data": {
      "text/plain": [
       "file     0\n",
       "api      0\n",
       "class    0\n",
       "dtype: int64"
      ]
     },
     "execution_count": 8,
     "metadata": {},
     "output_type": "execute_result"
    }
   ],
   "source": [
    "df.isnull().sum()"
   ]
  },
  {
   "cell_type": "code",
   "execution_count": 9,
   "id": "e9070423",
   "metadata": {},
   "outputs": [
    {
     "data": {
      "text/plain": [
       "file     0\n",
       "api      0\n",
       "class    0\n",
       "dtype: int64"
      ]
     },
     "execution_count": 9,
     "metadata": {},
     "output_type": "execute_result"
    }
   ],
   "source": [
    "df.isna().sum()"
   ]
  },
  {
   "cell_type": "markdown",
   "id": "0aa3b77f",
   "metadata": {},
   "source": [
    "# Preprocesamiento"
   ]
  },
  {
   "cell_type": "markdown",
   "id": "4afb83b1",
   "metadata": {},
   "source": [
    "Convertir a lista el string que contiene las apis del virus para poder iterarlas"
   ]
  },
  {
   "cell_type": "code",
   "execution_count": 10,
   "id": "a71a960d",
   "metadata": {},
   "outputs": [
    {
     "data": {
      "text/html": [
       "<div>\n",
       "<style scoped>\n",
       "    .dataframe tbody tr th:only-of-type {\n",
       "        vertical-align: middle;\n",
       "    }\n",
       "\n",
       "    .dataframe tbody tr th {\n",
       "        vertical-align: top;\n",
       "    }\n",
       "\n",
       "    .dataframe thead th {\n",
       "        text-align: right;\n",
       "    }\n",
       "</style>\n",
       "<table border=\"1\" class=\"dataframe\">\n",
       "  <thead>\n",
       "    <tr style=\"text-align: right;\">\n",
       "      <th></th>\n",
       "      <th>file</th>\n",
       "      <th>api</th>\n",
       "      <th>class</th>\n",
       "    </tr>\n",
       "  </thead>\n",
       "  <tbody>\n",
       "    <tr>\n",
       "      <th>0</th>\n",
       "      <td>7ff49f2f0912352416b05c010f35f402cc79feed</td>\n",
       "      <td>[IntersectRect, GetCurrentProcess, GetVersion]</td>\n",
       "      <td>Virus</td>\n",
       "    </tr>\n",
       "    <tr>\n",
       "      <th>1</th>\n",
       "      <td>50cc6c99ec285d0db45dde07d8fdc18d9098c5b6</td>\n",
       "      <td>[GetCaretBlinkTime, CountClipboardFormats, Get...</td>\n",
       "      <td>Virus</td>\n",
       "    </tr>\n",
       "    <tr>\n",
       "      <th>2</th>\n",
       "      <td>f77c6bd4aebacd1a01d02e0cb20642ebf2d32929</td>\n",
       "      <td>[VarR8Pow, GetClipboardViewer, GetInputDesktop...</td>\n",
       "      <td>Virus</td>\n",
       "    </tr>\n",
       "    <tr>\n",
       "      <th>3</th>\n",
       "      <td>349c367c5b88fbb6cafae5d7109588d7250e16b5</td>\n",
       "      <td>[SetTraceCallback, CopyAcceleratorTableW, GetP...</td>\n",
       "      <td>Virus</td>\n",
       "    </tr>\n",
       "    <tr>\n",
       "      <th>4</th>\n",
       "      <td>021f4aa86b520e1d606ab26699c35546bcd00c27</td>\n",
       "      <td>[SHLoadNonloadedIconOverlayIdentifiers, VarUI8...</td>\n",
       "      <td>Virus</td>\n",
       "    </tr>\n",
       "  </tbody>\n",
       "</table>\n",
       "</div>"
      ],
      "text/plain": [
       "                                       file  \\\n",
       "0  7ff49f2f0912352416b05c010f35f402cc79feed   \n",
       "1  50cc6c99ec285d0db45dde07d8fdc18d9098c5b6   \n",
       "2  f77c6bd4aebacd1a01d02e0cb20642ebf2d32929   \n",
       "3  349c367c5b88fbb6cafae5d7109588d7250e16b5   \n",
       "4  021f4aa86b520e1d606ab26699c35546bcd00c27   \n",
       "\n",
       "                                                 api  class  \n",
       "0     [IntersectRect, GetCurrentProcess, GetVersion]  Virus  \n",
       "1  [GetCaretBlinkTime, CountClipboardFormats, Get...  Virus  \n",
       "2  [VarR8Pow, GetClipboardViewer, GetInputDesktop...  Virus  \n",
       "3  [SetTraceCallback, CopyAcceleratorTableW, GetP...  Virus  \n",
       "4  [SHLoadNonloadedIconOverlayIdentifiers, VarUI8...  Virus  "
      ]
     },
     "execution_count": 10,
     "metadata": {},
     "output_type": "execute_result"
    }
   ],
   "source": [
    "df['api'] = df['api'].str.split(',')\n",
    "df.head()"
   ]
  },
  {
   "cell_type": "markdown",
   "id": "491c52b8",
   "metadata": {},
   "source": [
    "Realizar un label encoder de la clase de virus para optimizar el entrenamiento del modelo"
   ]
  },
  {
   "cell_type": "code",
   "execution_count": 11,
   "id": "5b94045f",
   "metadata": {},
   "outputs": [
    {
     "data": {
      "text/html": [
       "<div>\n",
       "<style scoped>\n",
       "    .dataframe tbody tr th:only-of-type {\n",
       "        vertical-align: middle;\n",
       "    }\n",
       "\n",
       "    .dataframe tbody tr th {\n",
       "        vertical-align: top;\n",
       "    }\n",
       "\n",
       "    .dataframe thead th {\n",
       "        text-align: right;\n",
       "    }\n",
       "</style>\n",
       "<table border=\"1\" class=\"dataframe\">\n",
       "  <thead>\n",
       "    <tr style=\"text-align: right;\">\n",
       "      <th></th>\n",
       "      <th>file</th>\n",
       "      <th>api</th>\n",
       "      <th>class</th>\n",
       "    </tr>\n",
       "  </thead>\n",
       "  <tbody>\n",
       "    <tr>\n",
       "      <th>8712</th>\n",
       "      <td>50f7c3b43941a2a03e5d1334382387939bb8523c</td>\n",
       "      <td>[WSAGetLastError, WSAStartup, __WSAFDIsSet, ac...</td>\n",
       "      <td>2</td>\n",
       "    </tr>\n",
       "    <tr>\n",
       "      <th>5447</th>\n",
       "      <td>fc9553406ad6804d4fc77ce029892aa57be42a7e</td>\n",
       "      <td>[_CorExeMain]</td>\n",
       "      <td>10</td>\n",
       "    </tr>\n",
       "    <tr>\n",
       "      <th>9256</th>\n",
       "      <td>8dfb9fa85f4ed562fa4dcb6464a6153b588a6000</td>\n",
       "      <td>[RegCloseKey, LoadLibraryA, ExitProcess, GetPr...</td>\n",
       "      <td>12</td>\n",
       "    </tr>\n",
       "    <tr>\n",
       "      <th>3451</th>\n",
       "      <td>06d21e2b62fcc1bf3444bd5f42ff087f2ab26571</td>\n",
       "      <td>[GetModuleBaseNameA, GetModuleFileNameExA, Enu...</td>\n",
       "      <td>1</td>\n",
       "    </tr>\n",
       "    <tr>\n",
       "      <th>6590</th>\n",
       "      <td>d5de7cb9e1079f5b20f589664a27713e9e939e7d</td>\n",
       "      <td>[LoadLibraryA, GetProcAddress, VirtualProtect,...</td>\n",
       "      <td>10</td>\n",
       "    </tr>\n",
       "    <tr>\n",
       "      <th>2826</th>\n",
       "      <td>33cef0b2dd78eccc6a587202c34f9a7f528456ab</td>\n",
       "      <td>[RtlLargeIntegerShiftRight, ZwReadFile, FreeCo...</td>\n",
       "      <td>11</td>\n",
       "    </tr>\n",
       "    <tr>\n",
       "      <th>2207</th>\n",
       "      <td>9dbe3ec10ab21ac69cd12b776b8b38d0ab75669e</td>\n",
       "      <td>[NtCreateJobSet, GetOpenClipboardWindow, GetCu...</td>\n",
       "      <td>11</td>\n",
       "    </tr>\n",
       "    <tr>\n",
       "      <th>4463</th>\n",
       "      <td>e99b9dc167c07127043817a1029ec42e27034728</td>\n",
       "      <td>[GetModuleHandleA, GetProcAddress, CryptHashDa...</td>\n",
       "      <td>10</td>\n",
       "    </tr>\n",
       "    <tr>\n",
       "      <th>5142</th>\n",
       "      <td>77d2382d9aa33d9ceb078b5dd3b5c817f6eec176</td>\n",
       "      <td>[MessageBoxA, wsprintfA, ExitProcess, GetModul...</td>\n",
       "      <td>10</td>\n",
       "    </tr>\n",
       "    <tr>\n",
       "      <th>5366</th>\n",
       "      <td>9f866dfd4c0309a98639625273804a09d0621b9d</td>\n",
       "      <td>[LoadLibraryA, GetProcAddress, VirtualProtect,...</td>\n",
       "      <td>10</td>\n",
       "    </tr>\n",
       "  </tbody>\n",
       "</table>\n",
       "</div>"
      ],
      "text/plain": [
       "                                          file  \\\n",
       "8712  50f7c3b43941a2a03e5d1334382387939bb8523c   \n",
       "5447  fc9553406ad6804d4fc77ce029892aa57be42a7e   \n",
       "9256  8dfb9fa85f4ed562fa4dcb6464a6153b588a6000   \n",
       "3451  06d21e2b62fcc1bf3444bd5f42ff087f2ab26571   \n",
       "6590  d5de7cb9e1079f5b20f589664a27713e9e939e7d   \n",
       "2826  33cef0b2dd78eccc6a587202c34f9a7f528456ab   \n",
       "2207  9dbe3ec10ab21ac69cd12b776b8b38d0ab75669e   \n",
       "4463  e99b9dc167c07127043817a1029ec42e27034728   \n",
       "5142  77d2382d9aa33d9ceb078b5dd3b5c817f6eec176   \n",
       "5366  9f866dfd4c0309a98639625273804a09d0621b9d   \n",
       "\n",
       "                                                    api  class  \n",
       "8712  [WSAGetLastError, WSAStartup, __WSAFDIsSet, ac...      2  \n",
       "5447                                      [_CorExeMain]     10  \n",
       "9256  [RegCloseKey, LoadLibraryA, ExitProcess, GetPr...     12  \n",
       "3451  [GetModuleBaseNameA, GetModuleFileNameExA, Enu...      1  \n",
       "6590  [LoadLibraryA, GetProcAddress, VirtualProtect,...     10  \n",
       "2826  [RtlLargeIntegerShiftRight, ZwReadFile, FreeCo...     11  \n",
       "2207  [NtCreateJobSet, GetOpenClipboardWindow, GetCu...     11  \n",
       "4463  [GetModuleHandleA, GetProcAddress, CryptHashDa...     10  \n",
       "5142  [MessageBoxA, wsprintfA, ExitProcess, GetModul...     10  \n",
       "5366  [LoadLibraryA, GetProcAddress, VirtualProtect,...     10  "
      ]
     },
     "execution_count": 11,
     "metadata": {},
     "output_type": "execute_result"
    }
   ],
   "source": [
    "le = preprocessing.LabelEncoder()\n",
    "df['class'] = le.fit_transform(df['class'])\n",
    "df.sample(10)"
   ]
  },
  {
   "cell_type": "markdown",
   "id": "420fd20e",
   "metadata": {},
   "source": [
    "# Ingeniería de características\n",
    "El algoritmo dura bastante por lo que se guardo el resultado en un csv para extraerlo luego sin tener que volver a correrlo"
   ]
  },
  {
   "cell_type": "markdown",
   "id": "aa4b861b",
   "metadata": {},
   "source": [
    "Se crea una columna por cada api y se utiliza un valor binario para indicar si la fila contiene esa api. Para evitar errores de alocamiento de memoria, el algoritmo se trabaja por partes y se concatenan los resultados."
   ]
  },
  {
   "cell_type": "code",
   "execution_count": 12,
   "id": "87e34f1d",
   "metadata": {},
   "outputs": [
    {
     "data": {
      "text/plain": [
       "\"\\ndummies = pd.Series()\\njump_value = 1000\\nmax_value = df['api'].count()\\n\\nfor i in range(0, max_value, jump_value):\\n    nxt = i + jump_value\\n    limit = nxt if nxt < max_value else None\\n    dummies_ext = df.iloc[i:limit]['api'].apply(pd.Series).stack().str.get_dummies().groupby(level=0).sum()\\n    dummies = pd.concat([dummies, dummies_ext])\\n    print(f'Transformed {nxt} - {len(dummies_ext.index)}')\\n\""
      ]
     },
     "execution_count": 12,
     "metadata": {},
     "output_type": "execute_result"
    }
   ],
   "source": [
    "'''\n",
    "dummies = pd.Series()\n",
    "jump_value = 1000\n",
    "max_value = df['api'].count()\n",
    "\n",
    "for i in range(0, max_value, jump_value):\n",
    "    nxt = i + jump_value\n",
    "    limit = nxt if nxt < max_value else None\n",
    "    dummies_ext = df.iloc[i:limit]['api'].apply(pd.Series).stack().str.get_dummies().groupby(level=0).sum()\n",
    "    dummies = pd.concat([dummies, dummies_ext])\n",
    "    print(f'Transformed {nxt} - {len(dummies_ext.index)}')\n",
    "'''"
   ]
  },
  {
   "cell_type": "markdown",
   "id": "362a4f01",
   "metadata": {},
   "source": [
    "Ya que se concatenan los resultados por partes, varios grupos de filas no tendrán las mismas columnas que las otras, por lo que al concatenarlas habrán bastantes NaN, pero sabemos que si tiene NaN es porque no tiene esa columnay por lo tanto no tiene esa API, así que se puede reemplazar por 0 para indicar que no la tiene."
   ]
  },
  {
   "cell_type": "code",
   "execution_count": 13,
   "id": "db72ebc3",
   "metadata": {},
   "outputs": [],
   "source": [
    "# dummies = dummies.fillna(0)\n",
    "# dummies"
   ]
  },
  {
   "cell_type": "markdown",
   "id": "b444184a",
   "metadata": {},
   "source": [
    "Para evitar correr el algoritmo otra vez, se guarda el resultado en un csv"
   ]
  },
  {
   "cell_type": "code",
   "execution_count": 14,
   "id": "78a8f89a",
   "metadata": {},
   "outputs": [],
   "source": [
    "# dummies.to_csv('dummies.csv')"
   ]
  },
  {
   "cell_type": "markdown",
   "id": "b473beec",
   "metadata": {},
   "source": [
    "Si el algoritmo anterior ya se ejecutó, se carga el dataset"
   ]
  },
  {
   "cell_type": "code",
   "execution_count": 15,
   "id": "d67b9519",
   "metadata": {},
   "outputs": [],
   "source": [
    "dummies = pd.read_csv('dummies.csv')"
   ]
  },
  {
   "cell_type": "code",
   "execution_count": 16,
   "id": "3b8e9222",
   "metadata": {},
   "outputs": [
    {
     "data": {
      "text/plain": [
       "Index(['Unnamed: 0', '0', '??0?$basic_ios@DU?$char_traits@D@std@@@std@@IAE@XZ',\n",
       "       '??0?$basic_ios@DU?$char_traits@D@std@@@std@@IEAA@XZ',\n",
       "       '??0?$basic_istream@DU?$char_traits@D@std@@@std@@QEAA@PEAV?$basic_streambuf@DU?$char_traits@D@std@@@1@_N@Z',\n",
       "       '??0?$basic_ostream@DU?$char_traits@D@std@@@std@@QAE@PAV?$basic_streambuf@DU?$char_traits@D@std@@@1@_N@Z',\n",
       "       '??0?$basic_streambuf@DU?$char_traits@D@std@@@std@@IAE@XZ',\n",
       "       '??0?$basic_streambuf@DU?$char_traits@D@std@@@std@@IEAA@XZ',\n",
       "       '??0_Container_base12@std@@QAE@XZ', '??0_Locinfo@std@@QAE@HPBD@Z',\n",
       "       ...\n",
       "       'rtcIsArray', 'rtcIsMissing', 'rtcIsObject', 'rtcJoin', 'rtcLeftVar',\n",
       "       'rtcPackTime', 'rtcRandomNext', 'rtcVarBstrFromAnsi',\n",
       "       'rtcVarDateFromVar', 'wcscspn'],\n",
       "      dtype='object', length=7967)"
      ]
     },
     "execution_count": 16,
     "metadata": {},
     "output_type": "execute_result"
    }
   ],
   "source": [
    "col_names = dummies.columns\n",
    "col_names"
   ]
  },
  {
   "cell_type": "markdown",
   "id": "5869103b",
   "metadata": {},
   "source": [
    "Se conservan únicamente las columnas necesarias para el modelo para evitar redundancia, sobrecarga y sesgos."
   ]
  },
  {
   "cell_type": "code",
   "execution_count": 17,
   "id": "8ba5cbbe",
   "metadata": {},
   "outputs": [
    {
     "data": {
      "text/html": [
       "<div>\n",
       "<style scoped>\n",
       "    .dataframe tbody tr th:only-of-type {\n",
       "        vertical-align: middle;\n",
       "    }\n",
       "\n",
       "    .dataframe tbody tr th {\n",
       "        vertical-align: top;\n",
       "    }\n",
       "\n",
       "    .dataframe thead th {\n",
       "        text-align: right;\n",
       "    }\n",
       "</style>\n",
       "<table border=\"1\" class=\"dataframe\">\n",
       "  <thead>\n",
       "    <tr style=\"text-align: right;\">\n",
       "      <th></th>\n",
       "      <th>class</th>\n",
       "      <th>??0?$basic_ios@DU?$char_traits@D@std@@@std@@IAE@XZ</th>\n",
       "      <th>??0?$basic_ios@DU?$char_traits@D@std@@@std@@IEAA@XZ</th>\n",
       "      <th>??0?$basic_istream@DU?$char_traits@D@std@@@std@@QEAA@PEAV?$basic_streambuf@DU?$char_traits@D@std@@@1@_N@Z</th>\n",
       "      <th>??0?$basic_ostream@DU?$char_traits@D@std@@@std@@QAE@PAV?$basic_streambuf@DU?$char_traits@D@std@@@1@_N@Z</th>\n",
       "      <th>??0?$basic_streambuf@DU?$char_traits@D@std@@@std@@IAE@XZ</th>\n",
       "      <th>??0?$basic_streambuf@DU?$char_traits@D@std@@@std@@IEAA@XZ</th>\n",
       "      <th>??0_Container_base12@std@@QAE@XZ</th>\n",
       "      <th>??0_Locinfo@std@@QAE@HPBD@Z</th>\n",
       "      <th>??0_Lockit@std@@QAE@H@Z</th>\n",
       "      <th>...</th>\n",
       "      <th>rtcIsArray</th>\n",
       "      <th>rtcIsMissing</th>\n",
       "      <th>rtcIsObject</th>\n",
       "      <th>rtcJoin</th>\n",
       "      <th>rtcLeftVar</th>\n",
       "      <th>rtcPackTime</th>\n",
       "      <th>rtcRandomNext</th>\n",
       "      <th>rtcVarBstrFromAnsi</th>\n",
       "      <th>rtcVarDateFromVar</th>\n",
       "      <th>wcscspn</th>\n",
       "    </tr>\n",
       "  </thead>\n",
       "  <tbody>\n",
       "    <tr>\n",
       "      <th>0</th>\n",
       "      <td>11</td>\n",
       "      <td>0.0</td>\n",
       "      <td>0.0</td>\n",
       "      <td>0.0</td>\n",
       "      <td>0.0</td>\n",
       "      <td>0.0</td>\n",
       "      <td>0.0</td>\n",
       "      <td>0.0</td>\n",
       "      <td>0.0</td>\n",
       "      <td>0.0</td>\n",
       "      <td>...</td>\n",
       "      <td>0.0</td>\n",
       "      <td>0.0</td>\n",
       "      <td>0.0</td>\n",
       "      <td>0.0</td>\n",
       "      <td>0.0</td>\n",
       "      <td>0.0</td>\n",
       "      <td>0.0</td>\n",
       "      <td>0.0</td>\n",
       "      <td>0.0</td>\n",
       "      <td>0.0</td>\n",
       "    </tr>\n",
       "    <tr>\n",
       "      <th>1</th>\n",
       "      <td>11</td>\n",
       "      <td>0.0</td>\n",
       "      <td>0.0</td>\n",
       "      <td>0.0</td>\n",
       "      <td>0.0</td>\n",
       "      <td>0.0</td>\n",
       "      <td>0.0</td>\n",
       "      <td>0.0</td>\n",
       "      <td>0.0</td>\n",
       "      <td>0.0</td>\n",
       "      <td>...</td>\n",
       "      <td>0.0</td>\n",
       "      <td>0.0</td>\n",
       "      <td>0.0</td>\n",
       "      <td>0.0</td>\n",
       "      <td>0.0</td>\n",
       "      <td>0.0</td>\n",
       "      <td>0.0</td>\n",
       "      <td>0.0</td>\n",
       "      <td>0.0</td>\n",
       "      <td>0.0</td>\n",
       "    </tr>\n",
       "    <tr>\n",
       "      <th>2</th>\n",
       "      <td>11</td>\n",
       "      <td>0.0</td>\n",
       "      <td>0.0</td>\n",
       "      <td>0.0</td>\n",
       "      <td>0.0</td>\n",
       "      <td>0.0</td>\n",
       "      <td>0.0</td>\n",
       "      <td>0.0</td>\n",
       "      <td>0.0</td>\n",
       "      <td>0.0</td>\n",
       "      <td>...</td>\n",
       "      <td>0.0</td>\n",
       "      <td>0.0</td>\n",
       "      <td>0.0</td>\n",
       "      <td>0.0</td>\n",
       "      <td>0.0</td>\n",
       "      <td>0.0</td>\n",
       "      <td>0.0</td>\n",
       "      <td>0.0</td>\n",
       "      <td>0.0</td>\n",
       "      <td>0.0</td>\n",
       "    </tr>\n",
       "    <tr>\n",
       "      <th>3</th>\n",
       "      <td>11</td>\n",
       "      <td>0.0</td>\n",
       "      <td>0.0</td>\n",
       "      <td>0.0</td>\n",
       "      <td>0.0</td>\n",
       "      <td>0.0</td>\n",
       "      <td>0.0</td>\n",
       "      <td>0.0</td>\n",
       "      <td>0.0</td>\n",
       "      <td>0.0</td>\n",
       "      <td>...</td>\n",
       "      <td>0.0</td>\n",
       "      <td>0.0</td>\n",
       "      <td>0.0</td>\n",
       "      <td>0.0</td>\n",
       "      <td>0.0</td>\n",
       "      <td>0.0</td>\n",
       "      <td>0.0</td>\n",
       "      <td>0.0</td>\n",
       "      <td>0.0</td>\n",
       "      <td>0.0</td>\n",
       "    </tr>\n",
       "    <tr>\n",
       "      <th>4</th>\n",
       "      <td>11</td>\n",
       "      <td>0.0</td>\n",
       "      <td>0.0</td>\n",
       "      <td>0.0</td>\n",
       "      <td>0.0</td>\n",
       "      <td>0.0</td>\n",
       "      <td>0.0</td>\n",
       "      <td>0.0</td>\n",
       "      <td>0.0</td>\n",
       "      <td>0.0</td>\n",
       "      <td>...</td>\n",
       "      <td>0.0</td>\n",
       "      <td>0.0</td>\n",
       "      <td>0.0</td>\n",
       "      <td>0.0</td>\n",
       "      <td>0.0</td>\n",
       "      <td>0.0</td>\n",
       "      <td>0.0</td>\n",
       "      <td>0.0</td>\n",
       "      <td>0.0</td>\n",
       "      <td>0.0</td>\n",
       "    </tr>\n",
       "  </tbody>\n",
       "</table>\n",
       "<p>5 rows × 7966 columns</p>\n",
       "</div>"
      ],
      "text/plain": [
       "   class  ??0?$basic_ios@DU?$char_traits@D@std@@@std@@IAE@XZ  \\\n",
       "0     11                                                0.0    \n",
       "1     11                                                0.0    \n",
       "2     11                                                0.0    \n",
       "3     11                                                0.0    \n",
       "4     11                                                0.0    \n",
       "\n",
       "   ??0?$basic_ios@DU?$char_traits@D@std@@@std@@IEAA@XZ  \\\n",
       "0                                                0.0     \n",
       "1                                                0.0     \n",
       "2                                                0.0     \n",
       "3                                                0.0     \n",
       "4                                                0.0     \n",
       "\n",
       "   ??0?$basic_istream@DU?$char_traits@D@std@@@std@@QEAA@PEAV?$basic_streambuf@DU?$char_traits@D@std@@@1@_N@Z  \\\n",
       "0                                                0.0                                                           \n",
       "1                                                0.0                                                           \n",
       "2                                                0.0                                                           \n",
       "3                                                0.0                                                           \n",
       "4                                                0.0                                                           \n",
       "\n",
       "   ??0?$basic_ostream@DU?$char_traits@D@std@@@std@@QAE@PAV?$basic_streambuf@DU?$char_traits@D@std@@@1@_N@Z  \\\n",
       "0                                                0.0                                                         \n",
       "1                                                0.0                                                         \n",
       "2                                                0.0                                                         \n",
       "3                                                0.0                                                         \n",
       "4                                                0.0                                                         \n",
       "\n",
       "   ??0?$basic_streambuf@DU?$char_traits@D@std@@@std@@IAE@XZ  \\\n",
       "0                                                0.0          \n",
       "1                                                0.0          \n",
       "2                                                0.0          \n",
       "3                                                0.0          \n",
       "4                                                0.0          \n",
       "\n",
       "   ??0?$basic_streambuf@DU?$char_traits@D@std@@@std@@IEAA@XZ  \\\n",
       "0                                                0.0           \n",
       "1                                                0.0           \n",
       "2                                                0.0           \n",
       "3                                                0.0           \n",
       "4                                                0.0           \n",
       "\n",
       "   ??0_Container_base12@std@@QAE@XZ  ??0_Locinfo@std@@QAE@HPBD@Z  \\\n",
       "0                               0.0                          0.0   \n",
       "1                               0.0                          0.0   \n",
       "2                               0.0                          0.0   \n",
       "3                               0.0                          0.0   \n",
       "4                               0.0                          0.0   \n",
       "\n",
       "   ??0_Lockit@std@@QAE@H@Z  ...  rtcIsArray  rtcIsMissing  rtcIsObject  \\\n",
       "0                      0.0  ...         0.0           0.0          0.0   \n",
       "1                      0.0  ...         0.0           0.0          0.0   \n",
       "2                      0.0  ...         0.0           0.0          0.0   \n",
       "3                      0.0  ...         0.0           0.0          0.0   \n",
       "4                      0.0  ...         0.0           0.0          0.0   \n",
       "\n",
       "   rtcJoin  rtcLeftVar  rtcPackTime  rtcRandomNext  rtcVarBstrFromAnsi  \\\n",
       "0      0.0         0.0          0.0            0.0                 0.0   \n",
       "1      0.0         0.0          0.0            0.0                 0.0   \n",
       "2      0.0         0.0          0.0            0.0                 0.0   \n",
       "3      0.0         0.0          0.0            0.0                 0.0   \n",
       "4      0.0         0.0          0.0            0.0                 0.0   \n",
       "\n",
       "   rtcVarDateFromVar  wcscspn  \n",
       "0                0.0      0.0  \n",
       "1                0.0      0.0  \n",
       "2                0.0      0.0  \n",
       "3                0.0      0.0  \n",
       "4                0.0      0.0  \n",
       "\n",
       "[5 rows x 7966 columns]"
      ]
     },
     "execution_count": 17,
     "metadata": {},
     "output_type": "execute_result"
    }
   ],
   "source": [
    "df = pd.concat([df, dummies], axis=1)\n",
    "del df['Unnamed: 0']\n",
    "del df['0']\n",
    "del df['api']\n",
    "del df['file']\n",
    "df.head()"
   ]
  },
  {
   "cell_type": "markdown",
   "id": "5bb686b4",
   "metadata": {},
   "source": [
    "# Modelo 1: Support Vector Machine"
   ]
  },
  {
   "cell_type": "markdown",
   "id": "8ae78355",
   "metadata": {},
   "source": [
    "## Implementación y validación"
   ]
  },
  {
   "cell_type": "markdown",
   "id": "b17945bc",
   "metadata": {},
   "source": [
    "Split data"
   ]
  },
  {
   "cell_type": "code",
   "execution_count": 18,
   "id": "9528d99c",
   "metadata": {},
   "outputs": [],
   "source": [
    "X = df.loc[:, df.columns != 'class']\n",
    "y = df['class']\n",
    "\n",
    "X_train, X_test, y_train, y_test = train_test_split(X, y, test_size=0.3, random_state=100)"
   ]
  },
  {
   "cell_type": "markdown",
   "id": "49692eaf",
   "metadata": {},
   "source": [
    "Crear y entrenar el modelo"
   ]
  },
  {
   "cell_type": "code",
   "execution_count": 19,
   "id": "91e3bd24",
   "metadata": {},
   "outputs": [
    {
     "data": {
      "text/plain": [
       "SVC(kernel='linear')"
      ]
     },
     "execution_count": 19,
     "metadata": {},
     "output_type": "execute_result"
    }
   ],
   "source": [
    "clf = SVC(kernel='linear')\n",
    "clf.fit(X_train, y_train)"
   ]
  },
  {
   "cell_type": "markdown",
   "id": "2cb5d9c4",
   "metadata": {},
   "source": [
    "Validar predicciones"
   ]
  },
  {
   "cell_type": "code",
   "execution_count": 20,
   "id": "35a83e67",
   "metadata": {},
   "outputs": [],
   "source": [
    "y_pred = clf.predict(X_test)"
   ]
  },
  {
   "cell_type": "markdown",
   "id": "2f2737b0",
   "metadata": {},
   "source": [
    "## Validación cruzada"
   ]
  },
  {
   "cell_type": "code",
   "execution_count": 21,
   "id": "e60a3db7",
   "metadata": {},
   "outputs": [
    {
     "name": "stderr",
     "output_type": "stream",
     "text": [
      "/home/walt/.local/lib/python3.9/site-packages/sklearn/model_selection/_split.py:676: UserWarning: The least populated class in y has only 1 members, which is less than n_splits=10.\n",
      "  warnings.warn(\n"
     ]
    },
    {
     "name": "stdout",
     "output_type": "stream",
     "text": [
      "Cross Validation Scores:  [0.94693878 0.95918367 0.93877551 0.93469388 0.93265306 0.93054137\n",
      " 0.93564862 0.93769152 0.93667007 0.94484168]\n",
      "Average CV Score:  0.9397638156386151\n",
      "Number of CV Scores used in Average:  10\n"
     ]
    }
   ],
   "source": [
    "# k_folds = KFold(n_splits = 10)\n",
    "scores = cross_val_score(clf, X, y, cv = 10)\n",
    "\n",
    "print(\"Cross Validation Scores: \", scores)\n",
    "print(\"Average CV Score: \", scores.mean())\n",
    "print(\"Number of CV Scores used in Average: \", len(scores))"
   ]
  },
  {
   "cell_type": "markdown",
   "id": "ef2152a3",
   "metadata": {},
   "source": [
    "## Métricas"
   ]
  },
  {
   "cell_type": "code",
   "execution_count": 22,
   "id": "a668038f",
   "metadata": {},
   "outputs": [
    {
     "data": {
      "text/plain": [
       "0.9445389588295339"
      ]
     },
     "execution_count": 22,
     "metadata": {},
     "output_type": "execute_result"
    }
   ],
   "source": [
    "accuracy_score(y_test, y_pred)"
   ]
  },
  {
   "cell_type": "markdown",
   "id": "fff0d2e8",
   "metadata": {},
   "source": [
    "Lo que nos muestra el accuracy es que el modelo logró predecir correctamente un 94% de los datos de testing, lo cual es un valor bastante aceptable para la detección de malware."
   ]
  },
  {
   "cell_type": "code",
   "execution_count": 23,
   "id": "c9836692",
   "metadata": {},
   "outputs": [
    {
     "data": {
      "text/plain": [
       "0.9405462285134326"
      ]
     },
     "execution_count": 23,
     "metadata": {},
     "output_type": "execute_result"
    }
   ],
   "source": [
    "precision_score(y_test, y_pred, average='weighted', zero_division=False)"
   ]
  },
  {
   "cell_type": "markdown",
   "id": "2b3f93ea",
   "metadata": {},
   "source": [
    "La precisión nos indica que el 94% de los datos catalogados como positivos en una clase, realmente pertenecían a esa categoría."
   ]
  },
  {
   "cell_type": "code",
   "execution_count": 24,
   "id": "ed5f7c7c",
   "metadata": {},
   "outputs": [
    {
     "data": {
      "text/plain": [
       "0.9445389588295339"
      ]
     },
     "execution_count": 24,
     "metadata": {},
     "output_type": "execute_result"
    }
   ],
   "source": [
    "recall_score(y_test, y_pred, average='weighted', zero_division=False)"
   ]
  },
  {
   "cell_type": "markdown",
   "id": "c85846fc",
   "metadata": {},
   "source": [
    "Del recall se interpreta que solo el 94% de los datos que verdaderamente pertenecen a una clase, fueron correctamente identificados como tal."
   ]
  },
  {
   "cell_type": "markdown",
   "id": "be5ebf41",
   "metadata": {},
   "source": [
    "# Modelo 2: Extreme Gradient Booster"
   ]
  },
  {
   "cell_type": "markdown",
   "id": "cb5c77b2",
   "metadata": {},
   "source": [
    "## Implementación y validación"
   ]
  },
  {
   "cell_type": "code",
   "execution_count": 25,
   "id": "8be83a9b",
   "metadata": {},
   "outputs": [],
   "source": [
    "bst = XGBClassifier(n_estimators=10, max_depth=2, learning_rate=1, objective='hist')"
   ]
  },
  {
   "cell_type": "code",
   "execution_count": 26,
   "id": "a9399e91",
   "metadata": {},
   "outputs": [
    {
     "name": "stderr",
     "output_type": "stream",
     "text": [
      "/home/walt/.local/lib/python3.9/site-packages/xgboost/sklearn.py:1146: UserWarning: The use of label encoder in XGBClassifier is deprecated and will be removed in a future release. To remove this warning, do the following: 1) Pass option use_label_encoder=False when constructing XGBClassifier object; and 2) Encode your labels (y) as integers starting with 0, i.e. 0, 1, 2, ..., [num_class - 1].\n",
      "  warnings.warn(label_encoder_deprecation_msg, UserWarning)\n",
      "/home/walt/.local/lib/python3.9/site-packages/xgboost/data.py:208: FutureWarning: pandas.Int64Index is deprecated and will be removed from pandas in a future version. Use pandas.Index with the appropriate dtype instead.\n",
      "  from pandas import MultiIndex, Int64Index\n"
     ]
    },
    {
     "name": "stdout",
     "output_type": "stream",
     "text": [
      "[02:31:58] WARNING: ../src/learner.cc:1095: Starting in XGBoost 1.3.0, the default evaluation metric used with the objective 'multi:softprob' was changed from 'merror' to 'mlogloss'. Explicitly set eval_metric if you'd like to restore the old behavior.\n"
     ]
    },
    {
     "data": {
      "text/plain": [
       "XGBClassifier(base_score=0.5, booster='gbtree', colsample_bylevel=1,\n",
       "              colsample_bynode=1, colsample_bytree=1, gamma=0, gpu_id=-1,\n",
       "              importance_type='gain', interaction_constraints='',\n",
       "              learning_rate=1, max_delta_step=0, max_depth=2,\n",
       "              min_child_weight=1, missing=nan, monotone_constraints='()',\n",
       "              n_estimators=10, n_jobs=12, num_parallel_tree=1,\n",
       "              objective='multi:softprob', random_state=0, reg_alpha=0,\n",
       "              reg_lambda=1, scale_pos_weight=None, subsample=1,\n",
       "              tree_method='exact', validate_parameters=1, verbosity=None)"
      ]
     },
     "execution_count": 26,
     "metadata": {},
     "output_type": "execute_result"
    }
   ],
   "source": [
    "bst.fit(X_train, y_train)"
   ]
  },
  {
   "cell_type": "code",
   "execution_count": 27,
   "id": "b4c2f166",
   "metadata": {},
   "outputs": [],
   "source": [
    "y_pred_xgb = bst.predict(X_test)"
   ]
  },
  {
   "cell_type": "markdown",
   "id": "b1a7128a",
   "metadata": {},
   "source": [
    "## Validación cruzada"
   ]
  },
  {
   "cell_type": "code",
   "execution_count": 28,
   "id": "055e1299",
   "metadata": {},
   "outputs": [
    {
     "name": "stderr",
     "output_type": "stream",
     "text": [
      "/home/walt/.local/lib/python3.9/site-packages/xgboost/sklearn.py:1146: UserWarning: The use of label encoder in XGBClassifier is deprecated and will be removed in a future release. To remove this warning, do the following: 1) Pass option use_label_encoder=False when constructing XGBClassifier object; and 2) Encode your labels (y) as integers starting with 0, i.e. 0, 1, 2, ..., [num_class - 1].\n",
      "  warnings.warn(label_encoder_deprecation_msg, UserWarning)\n",
      "/home/walt/.local/lib/python3.9/site-packages/xgboost/data.py:208: FutureWarning: pandas.Int64Index is deprecated and will be removed from pandas in a future version. Use pandas.Index with the appropriate dtype instead.\n",
      "  from pandas import MultiIndex, Int64Index\n"
     ]
    },
    {
     "name": "stdout",
     "output_type": "stream",
     "text": [
      "[02:32:14] WARNING: ../src/learner.cc:1095: Starting in XGBoost 1.3.0, the default evaluation metric used with the objective 'multi:softprob' was changed from 'merror' to 'mlogloss'. Explicitly set eval_metric if you'd like to restore the old behavior.\n"
     ]
    },
    {
     "name": "stderr",
     "output_type": "stream",
     "text": [
      "/home/walt/.local/lib/python3.9/site-packages/xgboost/sklearn.py:1146: UserWarning: The use of label encoder in XGBClassifier is deprecated and will be removed in a future release. To remove this warning, do the following: 1) Pass option use_label_encoder=False when constructing XGBClassifier object; and 2) Encode your labels (y) as integers starting with 0, i.e. 0, 1, 2, ..., [num_class - 1].\n",
      "  warnings.warn(label_encoder_deprecation_msg, UserWarning)\n",
      "/home/walt/.local/lib/python3.9/site-packages/xgboost/data.py:208: FutureWarning: pandas.Int64Index is deprecated and will be removed from pandas in a future version. Use pandas.Index with the appropriate dtype instead.\n",
      "  from pandas import MultiIndex, Int64Index\n"
     ]
    },
    {
     "name": "stdout",
     "output_type": "stream",
     "text": [
      "[02:32:34] WARNING: ../src/learner.cc:1095: Starting in XGBoost 1.3.0, the default evaluation metric used with the objective 'multi:softprob' was changed from 'merror' to 'mlogloss'. Explicitly set eval_metric if you'd like to restore the old behavior.\n"
     ]
    },
    {
     "name": "stderr",
     "output_type": "stream",
     "text": [
      "/home/walt/.local/lib/python3.9/site-packages/xgboost/sklearn.py:1146: UserWarning: The use of label encoder in XGBClassifier is deprecated and will be removed in a future release. To remove this warning, do the following: 1) Pass option use_label_encoder=False when constructing XGBClassifier object; and 2) Encode your labels (y) as integers starting with 0, i.e. 0, 1, 2, ..., [num_class - 1].\n",
      "  warnings.warn(label_encoder_deprecation_msg, UserWarning)\n",
      "/home/walt/.local/lib/python3.9/site-packages/xgboost/data.py:208: FutureWarning: pandas.Int64Index is deprecated and will be removed from pandas in a future version. Use pandas.Index with the appropriate dtype instead.\n",
      "  from pandas import MultiIndex, Int64Index\n"
     ]
    },
    {
     "name": "stdout",
     "output_type": "stream",
     "text": [
      "[02:32:52] WARNING: ../src/learner.cc:1095: Starting in XGBoost 1.3.0, the default evaluation metric used with the objective 'multi:softprob' was changed from 'merror' to 'mlogloss'. Explicitly set eval_metric if you'd like to restore the old behavior.\n"
     ]
    },
    {
     "name": "stderr",
     "output_type": "stream",
     "text": [
      "/home/walt/.local/lib/python3.9/site-packages/xgboost/sklearn.py:1146: UserWarning: The use of label encoder in XGBClassifier is deprecated and will be removed in a future release. To remove this warning, do the following: 1) Pass option use_label_encoder=False when constructing XGBClassifier object; and 2) Encode your labels (y) as integers starting with 0, i.e. 0, 1, 2, ..., [num_class - 1].\n",
      "  warnings.warn(label_encoder_deprecation_msg, UserWarning)\n",
      "/home/walt/.local/lib/python3.9/site-packages/xgboost/data.py:208: FutureWarning: pandas.Int64Index is deprecated and will be removed from pandas in a future version. Use pandas.Index with the appropriate dtype instead.\n",
      "  from pandas import MultiIndex, Int64Index\n"
     ]
    },
    {
     "name": "stdout",
     "output_type": "stream",
     "text": [
      "[02:33:11] WARNING: ../src/learner.cc:1095: Starting in XGBoost 1.3.0, the default evaluation metric used with the objective 'multi:softprob' was changed from 'merror' to 'mlogloss'. Explicitly set eval_metric if you'd like to restore the old behavior.\n"
     ]
    },
    {
     "name": "stderr",
     "output_type": "stream",
     "text": [
      "/home/walt/.local/lib/python3.9/site-packages/xgboost/sklearn.py:1146: UserWarning: The use of label encoder in XGBClassifier is deprecated and will be removed in a future release. To remove this warning, do the following: 1) Pass option use_label_encoder=False when constructing XGBClassifier object; and 2) Encode your labels (y) as integers starting with 0, i.e. 0, 1, 2, ..., [num_class - 1].\n",
      "  warnings.warn(label_encoder_deprecation_msg, UserWarning)\n",
      "/home/walt/.local/lib/python3.9/site-packages/xgboost/data.py:208: FutureWarning: pandas.Int64Index is deprecated and will be removed from pandas in a future version. Use pandas.Index with the appropriate dtype instead.\n",
      "  from pandas import MultiIndex, Int64Index\n"
     ]
    },
    {
     "name": "stdout",
     "output_type": "stream",
     "text": [
      "[02:33:29] WARNING: ../src/learner.cc:1095: Starting in XGBoost 1.3.0, the default evaluation metric used with the objective 'multi:softprob' was changed from 'merror' to 'mlogloss'. Explicitly set eval_metric if you'd like to restore the old behavior.\n"
     ]
    },
    {
     "name": "stderr",
     "output_type": "stream",
     "text": [
      "/home/walt/.local/lib/python3.9/site-packages/xgboost/sklearn.py:1146: UserWarning: The use of label encoder in XGBClassifier is deprecated and will be removed in a future release. To remove this warning, do the following: 1) Pass option use_label_encoder=False when constructing XGBClassifier object; and 2) Encode your labels (y) as integers starting with 0, i.e. 0, 1, 2, ..., [num_class - 1].\n",
      "  warnings.warn(label_encoder_deprecation_msg, UserWarning)\n",
      "/home/walt/.local/lib/python3.9/site-packages/xgboost/data.py:208: FutureWarning: pandas.Int64Index is deprecated and will be removed from pandas in a future version. Use pandas.Index with the appropriate dtype instead.\n",
      "  from pandas import MultiIndex, Int64Index\n"
     ]
    },
    {
     "name": "stdout",
     "output_type": "stream",
     "text": [
      "[02:33:49] WARNING: ../src/learner.cc:1095: Starting in XGBoost 1.3.0, the default evaluation metric used with the objective 'multi:softprob' was changed from 'merror' to 'mlogloss'. Explicitly set eval_metric if you'd like to restore the old behavior.\n"
     ]
    },
    {
     "name": "stderr",
     "output_type": "stream",
     "text": [
      "/home/walt/.local/lib/python3.9/site-packages/xgboost/sklearn.py:1146: UserWarning: The use of label encoder in XGBClassifier is deprecated and will be removed in a future release. To remove this warning, do the following: 1) Pass option use_label_encoder=False when constructing XGBClassifier object; and 2) Encode your labels (y) as integers starting with 0, i.e. 0, 1, 2, ..., [num_class - 1].\n",
      "  warnings.warn(label_encoder_deprecation_msg, UserWarning)\n",
      "/home/walt/.local/lib/python3.9/site-packages/xgboost/data.py:208: FutureWarning: pandas.Int64Index is deprecated and will be removed from pandas in a future version. Use pandas.Index with the appropriate dtype instead.\n",
      "  from pandas import MultiIndex, Int64Index\n"
     ]
    },
    {
     "name": "stdout",
     "output_type": "stream",
     "text": [
      "[02:34:09] WARNING: ../src/learner.cc:1095: Starting in XGBoost 1.3.0, the default evaluation metric used with the objective 'multi:softprob' was changed from 'merror' to 'mlogloss'. Explicitly set eval_metric if you'd like to restore the old behavior.\n"
     ]
    },
    {
     "name": "stderr",
     "output_type": "stream",
     "text": [
      "/home/walt/.local/lib/python3.9/site-packages/xgboost/sklearn.py:1146: UserWarning: The use of label encoder in XGBClassifier is deprecated and will be removed in a future release. To remove this warning, do the following: 1) Pass option use_label_encoder=False when constructing XGBClassifier object; and 2) Encode your labels (y) as integers starting with 0, i.e. 0, 1, 2, ..., [num_class - 1].\n",
      "  warnings.warn(label_encoder_deprecation_msg, UserWarning)\n",
      "/home/walt/.local/lib/python3.9/site-packages/xgboost/data.py:208: FutureWarning: pandas.Int64Index is deprecated and will be removed from pandas in a future version. Use pandas.Index with the appropriate dtype instead.\n",
      "  from pandas import MultiIndex, Int64Index\n"
     ]
    },
    {
     "name": "stdout",
     "output_type": "stream",
     "text": [
      "[02:34:28] WARNING: ../src/learner.cc:1095: Starting in XGBoost 1.3.0, the default evaluation metric used with the objective 'multi:softprob' was changed from 'merror' to 'mlogloss'. Explicitly set eval_metric if you'd like to restore the old behavior.\n"
     ]
    },
    {
     "name": "stderr",
     "output_type": "stream",
     "text": [
      "/home/walt/.local/lib/python3.9/site-packages/xgboost/sklearn.py:1146: UserWarning: The use of label encoder in XGBClassifier is deprecated and will be removed in a future release. To remove this warning, do the following: 1) Pass option use_label_encoder=False when constructing XGBClassifier object; and 2) Encode your labels (y) as integers starting with 0, i.e. 0, 1, 2, ..., [num_class - 1].\n",
      "  warnings.warn(label_encoder_deprecation_msg, UserWarning)\n",
      "/home/walt/.local/lib/python3.9/site-packages/xgboost/data.py:208: FutureWarning: pandas.Int64Index is deprecated and will be removed from pandas in a future version. Use pandas.Index with the appropriate dtype instead.\n",
      "  from pandas import MultiIndex, Int64Index\n"
     ]
    },
    {
     "name": "stdout",
     "output_type": "stream",
     "text": [
      "[02:34:48] WARNING: ../src/learner.cc:1095: Starting in XGBoost 1.3.0, the default evaluation metric used with the objective 'multi:softprob' was changed from 'merror' to 'mlogloss'. Explicitly set eval_metric if you'd like to restore the old behavior.\n"
     ]
    },
    {
     "name": "stderr",
     "output_type": "stream",
     "text": [
      "/home/walt/.local/lib/python3.9/site-packages/xgboost/sklearn.py:1146: UserWarning: The use of label encoder in XGBClassifier is deprecated and will be removed in a future release. To remove this warning, do the following: 1) Pass option use_label_encoder=False when constructing XGBClassifier object; and 2) Encode your labels (y) as integers starting with 0, i.e. 0, 1, 2, ..., [num_class - 1].\n",
      "  warnings.warn(label_encoder_deprecation_msg, UserWarning)\n",
      "/home/walt/.local/lib/python3.9/site-packages/xgboost/data.py:208: FutureWarning: pandas.Int64Index is deprecated and will be removed from pandas in a future version. Use pandas.Index with the appropriate dtype instead.\n",
      "  from pandas import MultiIndex, Int64Index\n"
     ]
    },
    {
     "name": "stdout",
     "output_type": "stream",
     "text": [
      "[02:35:07] WARNING: ../src/learner.cc:1095: Starting in XGBoost 1.3.0, the default evaluation metric used with the objective 'multi:softprob' was changed from 'merror' to 'mlogloss'. Explicitly set eval_metric if you'd like to restore the old behavior.\n",
      "Cross Validation Scores:  [0.88673469 0.73979592 0.00918367 0.75204082 0.9255102  0.85903984\n",
      " 0.7875383  0.773238   0.92236977 0.00715015]\n",
      "Average CV Score:  0.6662601363323674\n",
      "Number of CV Scores used in Average:  10\n"
     ]
    }
   ],
   "source": [
    "k_folds = KFold(n_splits = 10)\n",
    "scores = cross_val_score(bst, X, y, cv = k_folds)\n",
    "\n",
    "print(\"Cross Validation Scores: \", scores)\n",
    "print(\"Average CV Score: \", scores.mean())\n",
    "print(\"Number of CV Scores used in Average: \", len(scores))"
   ]
  },
  {
   "cell_type": "markdown",
   "id": "050ddb01",
   "metadata": {},
   "source": [
    "## Métricas"
   ]
  },
  {
   "cell_type": "code",
   "execution_count": 29,
   "id": "5a08f27c",
   "metadata": {},
   "outputs": [
    {
     "data": {
      "text/plain": [
       "0.9118747873426335"
      ]
     },
     "execution_count": 29,
     "metadata": {},
     "output_type": "execute_result"
    }
   ],
   "source": [
    "accuracy_score(y_test, y_pred_xgb)"
   ]
  },
  {
   "cell_type": "markdown",
   "id": "b1eeb171",
   "metadata": {},
   "source": [
    "Para el accuracy se observa que el 91% de los datos fueron clasificados correctamente a la clase que pertenece."
   ]
  },
  {
   "cell_type": "code",
   "execution_count": 30,
   "id": "65af375b",
   "metadata": {},
   "outputs": [
    {
     "data": {
      "text/plain": [
       "0.8970088120384435"
      ]
     },
     "execution_count": 30,
     "metadata": {},
     "output_type": "execute_result"
    }
   ],
   "source": [
    "precision_score(y_test, y_pred_xgb, average='weighted', zero_division=False)"
   ]
  },
  {
   "cell_type": "markdown",
   "id": "b0edd006",
   "metadata": {},
   "source": [
    "Aquí el precision nos muestra que el 89% de los datos catalogados dentro de una clase, realmente pertenecen a esa clase."
   ]
  },
  {
   "cell_type": "code",
   "execution_count": 31,
   "id": "1e0b86aa",
   "metadata": {},
   "outputs": [
    {
     "data": {
      "text/plain": [
       "0.9118747873426335"
      ]
     },
     "execution_count": 31,
     "metadata": {},
     "output_type": "execute_result"
    }
   ],
   "source": [
    "recall_score(y_test, y_pred_xgb, average='weighted', zero_division=False)"
   ]
  },
  {
   "cell_type": "markdown",
   "id": "27153f07",
   "metadata": {},
   "source": [
    "Y por último el recall muestra que el modelo fue capaz de identificar correctamente 91% de los datos pertenecientes a una clase."
   ]
  },
  {
   "cell_type": "markdown",
   "id": "193ea4a4",
   "metadata": {},
   "source": [
    "___\n",
    "# Conclusiones\n",
    "**El artículo “New Datasets for Dinamyc Malware Classification” sirve como un benchmark para comparar modelos de clasificación, ¿se lograron obtener mejores métricas que las obtenidas en el artículo para la clasificación de malware?**"
   ]
  },
  {
   "cell_type": "markdown",
   "id": "f990920b",
   "metadata": {},
   "source": [
    "En el caso del SVM los resultados obtenidos son virtualmente los mismos a los presentados en el artículo, con un accuracy de 94%.\n",
    "Para el EGB, los resultados fueron mínimamente mayores comparados a los del artículo, donde se ibtuvo accuracy del 90%, mientras que en este ejemplar se obtuvo del 91%. La diferencia radica en los parámetros del modelo, pues si bien ambos utilizamos el algoritmo arból de hist, en esta práctica se experimentó con el resto de valores, notando que al aumentar n_estimators a 10, los resultados mejoraban considerablemente.\n",
    "Esta claro que también la forma de preprocesar los datos pudo haber inlfuido la respuesta, sin embargo el dataset utilizado ya se encontraba trabajado por lo que los cambios fueron mínimos."
   ]
  }
 ],
 "metadata": {
  "kernelspec": {
   "display_name": "Python 3 (ipykernel)",
   "language": "python",
   "name": "python3"
  },
  "language_info": {
   "codemirror_mode": {
    "name": "ipython",
    "version": 3
   },
   "file_extension": ".py",
   "mimetype": "text/x-python",
   "name": "python",
   "nbconvert_exporter": "python",
   "pygments_lexer": "ipython3",
   "version": "3.9.5"
  }
 },
 "nbformat": 4,
 "nbformat_minor": 5
}
