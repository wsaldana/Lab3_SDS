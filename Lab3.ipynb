{
 "cells": [
  {
   "cell_type": "markdown",
   "id": "3256f47d",
   "metadata": {},
   "source": [
    "Universidad del Valle de Guatemala <br>\n",
    "Security Data Science\n",
    "\n",
    "# LABORATORIO 3\n",
    "## Clasificación de Malware\n",
    "\n",
    "Walter Saldaña #19897\n",
    "___"
   ]
  },
  {
   "cell_type": "markdown",
   "id": "4b7c39d5",
   "metadata": {},
   "source": [
    "importar librerias"
   ]
  },
  {
   "cell_type": "code",
   "execution_count": 50,
   "id": "dd75e89b",
   "metadata": {},
   "outputs": [],
   "source": [
    "import pandas as pd\n",
    "from sklearn import preprocessing\n",
    "from sklearn.svm import SVC\n",
    "from sklearn.model_selection import train_test_split\n",
    "from sklearn.model_selection import KFold, cross_val_score \n",
    "from sklearn.metrics import accuracy_score, precision_score, recall_score\n",
    "from xgboost import XGBClassifier"
   ]
  },
  {
   "cell_type": "markdown",
   "id": "bca1010c",
   "metadata": {},
   "source": [
    "cargar datos"
   ]
  },
  {
   "cell_type": "code",
   "execution_count": 2,
   "id": "173187a2",
   "metadata": {},
   "outputs": [],
   "source": [
    "df = pd.read_csv('VirusSample.csv')"
   ]
  },
  {
   "cell_type": "code",
   "execution_count": 3,
   "id": "6734c37c",
   "metadata": {},
   "outputs": [
    {
     "data": {
      "text/html": [
       "<div>\n",
       "<style scoped>\n",
       "    .dataframe tbody tr th:only-of-type {\n",
       "        vertical-align: middle;\n",
       "    }\n",
       "\n",
       "    .dataframe tbody tr th {\n",
       "        vertical-align: top;\n",
       "    }\n",
       "\n",
       "    .dataframe thead th {\n",
       "        text-align: right;\n",
       "    }\n",
       "</style>\n",
       "<table border=\"1\" class=\"dataframe\">\n",
       "  <thead>\n",
       "    <tr style=\"text-align: right;\">\n",
       "      <th></th>\n",
       "      <th>file</th>\n",
       "      <th>api</th>\n",
       "      <th>class</th>\n",
       "    </tr>\n",
       "  </thead>\n",
       "  <tbody>\n",
       "    <tr>\n",
       "      <th>0</th>\n",
       "      <td>7ff49f2f0912352416b05c010f35f402cc79feed</td>\n",
       "      <td>IntersectRect,GetCurrentProcess,GetVersion</td>\n",
       "      <td>Virus</td>\n",
       "    </tr>\n",
       "    <tr>\n",
       "      <th>1</th>\n",
       "      <td>50cc6c99ec285d0db45dde07d8fdc18d9098c5b6</td>\n",
       "      <td>GetCaretBlinkTime,CountClipboardFormats,GetCon...</td>\n",
       "      <td>Virus</td>\n",
       "    </tr>\n",
       "    <tr>\n",
       "      <th>2</th>\n",
       "      <td>f77c6bd4aebacd1a01d02e0cb20642ebf2d32929</td>\n",
       "      <td>VarR8Pow,GetClipboardViewer,GetInputDesktop,Ge...</td>\n",
       "      <td>Virus</td>\n",
       "    </tr>\n",
       "    <tr>\n",
       "      <th>3</th>\n",
       "      <td>349c367c5b88fbb6cafae5d7109588d7250e16b5</td>\n",
       "      <td>SetTraceCallback,CopyAcceleratorTableW,GetProc...</td>\n",
       "      <td>Virus</td>\n",
       "    </tr>\n",
       "    <tr>\n",
       "      <th>4</th>\n",
       "      <td>021f4aa86b520e1d606ab26699c35546bcd00c27</td>\n",
       "      <td>SHLoadNonloadedIconOverlayIdentifiers,VarUI8Fr...</td>\n",
       "      <td>Virus</td>\n",
       "    </tr>\n",
       "  </tbody>\n",
       "</table>\n",
       "</div>"
      ],
      "text/plain": [
       "                                       file  \\\n",
       "0  7ff49f2f0912352416b05c010f35f402cc79feed   \n",
       "1  50cc6c99ec285d0db45dde07d8fdc18d9098c5b6   \n",
       "2  f77c6bd4aebacd1a01d02e0cb20642ebf2d32929   \n",
       "3  349c367c5b88fbb6cafae5d7109588d7250e16b5   \n",
       "4  021f4aa86b520e1d606ab26699c35546bcd00c27   \n",
       "\n",
       "                                                 api  class  \n",
       "0         IntersectRect,GetCurrentProcess,GetVersion  Virus  \n",
       "1  GetCaretBlinkTime,CountClipboardFormats,GetCon...  Virus  \n",
       "2  VarR8Pow,GetClipboardViewer,GetInputDesktop,Ge...  Virus  \n",
       "3  SetTraceCallback,CopyAcceleratorTableW,GetProc...  Virus  \n",
       "4  SHLoadNonloadedIconOverlayIdentifiers,VarUI8Fr...  Virus  "
      ]
     },
     "execution_count": 3,
     "metadata": {},
     "output_type": "execute_result"
    }
   ],
   "source": [
    "df.head()"
   ]
  },
  {
   "cell_type": "markdown",
   "id": "b3a2ac01",
   "metadata": {},
   "source": [
    "# Análisis exploratorio"
   ]
  },
  {
   "cell_type": "code",
   "execution_count": 4,
   "id": "ab7a5904",
   "metadata": {},
   "outputs": [
    {
     "data": {
      "text/html": [
       "<div>\n",
       "<style scoped>\n",
       "    .dataframe tbody tr th:only-of-type {\n",
       "        vertical-align: middle;\n",
       "    }\n",
       "\n",
       "    .dataframe tbody tr th {\n",
       "        vertical-align: top;\n",
       "    }\n",
       "\n",
       "    .dataframe thead th {\n",
       "        text-align: right;\n",
       "    }\n",
       "</style>\n",
       "<table border=\"1\" class=\"dataframe\">\n",
       "  <thead>\n",
       "    <tr style=\"text-align: right;\">\n",
       "      <th></th>\n",
       "      <th>file</th>\n",
       "      <th>api</th>\n",
       "      <th>class</th>\n",
       "    </tr>\n",
       "  </thead>\n",
       "  <tbody>\n",
       "    <tr>\n",
       "      <th>count</th>\n",
       "      <td>9795</td>\n",
       "      <td>9795</td>\n",
       "      <td>9795</td>\n",
       "    </tr>\n",
       "    <tr>\n",
       "      <th>unique</th>\n",
       "      <td>9795</td>\n",
       "      <td>2980</td>\n",
       "      <td>13</td>\n",
       "    </tr>\n",
       "    <tr>\n",
       "      <th>top</th>\n",
       "      <td>7ff49f2f0912352416b05c010f35f402cc79feed</td>\n",
       "      <td>LoadLibraryA,GetProcAddress</td>\n",
       "      <td>Trojan</td>\n",
       "    </tr>\n",
       "    <tr>\n",
       "      <th>freq</th>\n",
       "      <td>1</td>\n",
       "      <td>1007</td>\n",
       "      <td>6153</td>\n",
       "    </tr>\n",
       "  </tbody>\n",
       "</table>\n",
       "</div>"
      ],
      "text/plain": [
       "                                            file                          api  \\\n",
       "count                                       9795                         9795   \n",
       "unique                                      9795                         2980   \n",
       "top     7ff49f2f0912352416b05c010f35f402cc79feed  LoadLibraryA,GetProcAddress   \n",
       "freq                                           1                         1007   \n",
       "\n",
       "         class  \n",
       "count     9795  \n",
       "unique      13  \n",
       "top     Trojan  \n",
       "freq      6153  "
      ]
     },
     "execution_count": 4,
     "metadata": {},
     "output_type": "execute_result"
    }
   ],
   "source": [
    "df.describe()"
   ]
  },
  {
   "cell_type": "code",
   "execution_count": 5,
   "id": "4d79d7c4",
   "metadata": {},
   "outputs": [
    {
     "data": {
      "text/plain": [
       "file     object\n",
       "api      object\n",
       "class    object\n",
       "dtype: object"
      ]
     },
     "execution_count": 5,
     "metadata": {},
     "output_type": "execute_result"
    }
   ],
   "source": [
    "df.dtypes"
   ]
  },
  {
   "cell_type": "code",
   "execution_count": 6,
   "id": "6ca8f670",
   "metadata": {},
   "outputs": [
    {
     "data": {
      "text/plain": [
       "array(['Virus', 'Riskware', 'Spyware', 'Downloader', 'Dropper', 'Agent',\n",
       "       'Adware', 'Trojan', 'Backdoor', 'Worms', 'Ransomware', 'Keylogger',\n",
       "       'Crypt'], dtype=object)"
      ]
     },
     "execution_count": 6,
     "metadata": {},
     "output_type": "execute_result"
    }
   ],
   "source": [
    "df['class'].unique()"
   ]
  },
  {
   "cell_type": "code",
   "execution_count": 7,
   "id": "bc1599e9",
   "metadata": {},
   "outputs": [
    {
     "data": {
      "text/plain": [
       "class\n",
       "Keylogger        1\n",
       "Crypt            2\n",
       "Dropper          4\n",
       "Riskware         4\n",
       "Ransomware      10\n",
       "Spyware         11\n",
       "Downloader      31\n",
       "Agent          102\n",
       "Adware         222\n",
       "Worms          441\n",
       "Backdoor       447\n",
       "Virus         2367\n",
       "Trojan        6153\n",
       "Name: file, dtype: int64"
      ]
     },
     "execution_count": 7,
     "metadata": {},
     "output_type": "execute_result"
    }
   ],
   "source": [
    "df.groupby('class')['file'].count().sort_values()"
   ]
  },
  {
   "cell_type": "code",
   "execution_count": 8,
   "id": "7ccd5431",
   "metadata": {},
   "outputs": [
    {
     "data": {
      "text/plain": [
       "file     0\n",
       "api      0\n",
       "class    0\n",
       "dtype: int64"
      ]
     },
     "execution_count": 8,
     "metadata": {},
     "output_type": "execute_result"
    }
   ],
   "source": [
    "df.isnull().sum()"
   ]
  },
  {
   "cell_type": "code",
   "execution_count": 9,
   "id": "e9070423",
   "metadata": {},
   "outputs": [
    {
     "data": {
      "text/plain": [
       "file     0\n",
       "api      0\n",
       "class    0\n",
       "dtype: int64"
      ]
     },
     "execution_count": 9,
     "metadata": {},
     "output_type": "execute_result"
    }
   ],
   "source": [
    "df.isna().sum()"
   ]
  },
  {
   "cell_type": "markdown",
   "id": "0aa3b77f",
   "metadata": {},
   "source": [
    "# Preprocesamiento"
   ]
  },
  {
   "cell_type": "code",
   "execution_count": 10,
   "id": "a71a960d",
   "metadata": {},
   "outputs": [
    {
     "data": {
      "text/html": [
       "<div>\n",
       "<style scoped>\n",
       "    .dataframe tbody tr th:only-of-type {\n",
       "        vertical-align: middle;\n",
       "    }\n",
       "\n",
       "    .dataframe tbody tr th {\n",
       "        vertical-align: top;\n",
       "    }\n",
       "\n",
       "    .dataframe thead th {\n",
       "        text-align: right;\n",
       "    }\n",
       "</style>\n",
       "<table border=\"1\" class=\"dataframe\">\n",
       "  <thead>\n",
       "    <tr style=\"text-align: right;\">\n",
       "      <th></th>\n",
       "      <th>file</th>\n",
       "      <th>api</th>\n",
       "      <th>class</th>\n",
       "    </tr>\n",
       "  </thead>\n",
       "  <tbody>\n",
       "    <tr>\n",
       "      <th>0</th>\n",
       "      <td>7ff49f2f0912352416b05c010f35f402cc79feed</td>\n",
       "      <td>[IntersectRect, GetCurrentProcess, GetVersion]</td>\n",
       "      <td>Virus</td>\n",
       "    </tr>\n",
       "    <tr>\n",
       "      <th>1</th>\n",
       "      <td>50cc6c99ec285d0db45dde07d8fdc18d9098c5b6</td>\n",
       "      <td>[GetCaretBlinkTime, CountClipboardFormats, Get...</td>\n",
       "      <td>Virus</td>\n",
       "    </tr>\n",
       "    <tr>\n",
       "      <th>2</th>\n",
       "      <td>f77c6bd4aebacd1a01d02e0cb20642ebf2d32929</td>\n",
       "      <td>[VarR8Pow, GetClipboardViewer, GetInputDesktop...</td>\n",
       "      <td>Virus</td>\n",
       "    </tr>\n",
       "    <tr>\n",
       "      <th>3</th>\n",
       "      <td>349c367c5b88fbb6cafae5d7109588d7250e16b5</td>\n",
       "      <td>[SetTraceCallback, CopyAcceleratorTableW, GetP...</td>\n",
       "      <td>Virus</td>\n",
       "    </tr>\n",
       "    <tr>\n",
       "      <th>4</th>\n",
       "      <td>021f4aa86b520e1d606ab26699c35546bcd00c27</td>\n",
       "      <td>[SHLoadNonloadedIconOverlayIdentifiers, VarUI8...</td>\n",
       "      <td>Virus</td>\n",
       "    </tr>\n",
       "  </tbody>\n",
       "</table>\n",
       "</div>"
      ],
      "text/plain": [
       "                                       file  \\\n",
       "0  7ff49f2f0912352416b05c010f35f402cc79feed   \n",
       "1  50cc6c99ec285d0db45dde07d8fdc18d9098c5b6   \n",
       "2  f77c6bd4aebacd1a01d02e0cb20642ebf2d32929   \n",
       "3  349c367c5b88fbb6cafae5d7109588d7250e16b5   \n",
       "4  021f4aa86b520e1d606ab26699c35546bcd00c27   \n",
       "\n",
       "                                                 api  class  \n",
       "0     [IntersectRect, GetCurrentProcess, GetVersion]  Virus  \n",
       "1  [GetCaretBlinkTime, CountClipboardFormats, Get...  Virus  \n",
       "2  [VarR8Pow, GetClipboardViewer, GetInputDesktop...  Virus  \n",
       "3  [SetTraceCallback, CopyAcceleratorTableW, GetP...  Virus  \n",
       "4  [SHLoadNonloadedIconOverlayIdentifiers, VarUI8...  Virus  "
      ]
     },
     "execution_count": 10,
     "metadata": {},
     "output_type": "execute_result"
    }
   ],
   "source": [
    "df['api'] = df['api'].str.split(',')\n",
    "df.head()"
   ]
  },
  {
   "cell_type": "code",
   "execution_count": 11,
   "id": "5b94045f",
   "metadata": {},
   "outputs": [
    {
     "data": {
      "text/html": [
       "<div>\n",
       "<style scoped>\n",
       "    .dataframe tbody tr th:only-of-type {\n",
       "        vertical-align: middle;\n",
       "    }\n",
       "\n",
       "    .dataframe tbody tr th {\n",
       "        vertical-align: top;\n",
       "    }\n",
       "\n",
       "    .dataframe thead th {\n",
       "        text-align: right;\n",
       "    }\n",
       "</style>\n",
       "<table border=\"1\" class=\"dataframe\">\n",
       "  <thead>\n",
       "    <tr style=\"text-align: right;\">\n",
       "      <th></th>\n",
       "      <th>file</th>\n",
       "      <th>api</th>\n",
       "      <th>class</th>\n",
       "    </tr>\n",
       "  </thead>\n",
       "  <tbody>\n",
       "    <tr>\n",
       "      <th>3958</th>\n",
       "      <td>031547b2c2b281d89d7246fadfa891ed0a69969a</td>\n",
       "      <td>[GetModuleHandleA, GetProcAddress, fabs, InitC...</td>\n",
       "      <td>10</td>\n",
       "    </tr>\n",
       "    <tr>\n",
       "      <th>9773</th>\n",
       "      <td>c0e3b32b6c0c985a21dd297c1cff3eab4a848d6396c639...</td>\n",
       "      <td>[ZwQueryInformationFile, NtEnumerateValueKey, ...</td>\n",
       "      <td>11</td>\n",
       "    </tr>\n",
       "    <tr>\n",
       "      <th>4086</th>\n",
       "      <td>e9ef933e632c647b63aae53ed139ef074c679a0b</td>\n",
       "      <td>[GetModuleHandleW, GetLocalTime, GetComputerNa...</td>\n",
       "      <td>10</td>\n",
       "    </tr>\n",
       "    <tr>\n",
       "      <th>468</th>\n",
       "      <td>3dd1847be1899d1cebddd54693411ddd1f359489</td>\n",
       "      <td>[LoadLibraryA, GetProcAddress, VirtualProtect,...</td>\n",
       "      <td>0</td>\n",
       "    </tr>\n",
       "    <tr>\n",
       "      <th>8480</th>\n",
       "      <td>2d44c57f6a6429e5c447f507a8fe8a241db0eeaf</td>\n",
       "      <td>[MethCallEngine, EVENT_SINK_AddRef, DllFunctio...</td>\n",
       "      <td>10</td>\n",
       "    </tr>\n",
       "    <tr>\n",
       "      <th>6111</th>\n",
       "      <td>d1bbc5524839e2f9f0dc9219f30af7b9e9813e6f</td>\n",
       "      <td>[DeleteCriticalSection, EnterCriticalSection, ...</td>\n",
       "      <td>10</td>\n",
       "    </tr>\n",
       "    <tr>\n",
       "      <th>5535</th>\n",
       "      <td>1281a48aae4415824dbe52d51cf7864b20c0f235</td>\n",
       "      <td>[LoadLibraryA, GetProcAddress, VirtualProtect,...</td>\n",
       "      <td>10</td>\n",
       "    </tr>\n",
       "    <tr>\n",
       "      <th>7218</th>\n",
       "      <td>178ce1e085df8d7ca05b4b530743ed397956aff3</td>\n",
       "      <td>[DeleteCriticalSection, EnterCriticalSection, ...</td>\n",
       "      <td>10</td>\n",
       "    </tr>\n",
       "    <tr>\n",
       "      <th>6721</th>\n",
       "      <td>8c2d9a511da6e19049018673c8b772507fd67bb7</td>\n",
       "      <td>[LoadLibraryA, GetProcAddress, VirtualProtect,...</td>\n",
       "      <td>10</td>\n",
       "    </tr>\n",
       "    <tr>\n",
       "      <th>2503</th>\n",
       "      <td>b13c6ea1198f728bdde78883e03308eba6eed0a1</td>\n",
       "      <td>[OutputDebugStringA, ZwCompareTokens, GetClipb...</td>\n",
       "      <td>11</td>\n",
       "    </tr>\n",
       "  </tbody>\n",
       "</table>\n",
       "</div>"
      ],
      "text/plain": [
       "                                                   file  \\\n",
       "3958           031547b2c2b281d89d7246fadfa891ed0a69969a   \n",
       "9773  c0e3b32b6c0c985a21dd297c1cff3eab4a848d6396c639...   \n",
       "4086           e9ef933e632c647b63aae53ed139ef074c679a0b   \n",
       "468            3dd1847be1899d1cebddd54693411ddd1f359489   \n",
       "8480           2d44c57f6a6429e5c447f507a8fe8a241db0eeaf   \n",
       "6111           d1bbc5524839e2f9f0dc9219f30af7b9e9813e6f   \n",
       "5535           1281a48aae4415824dbe52d51cf7864b20c0f235   \n",
       "7218           178ce1e085df8d7ca05b4b530743ed397956aff3   \n",
       "6721           8c2d9a511da6e19049018673c8b772507fd67bb7   \n",
       "2503           b13c6ea1198f728bdde78883e03308eba6eed0a1   \n",
       "\n",
       "                                                    api  class  \n",
       "3958  [GetModuleHandleA, GetProcAddress, fabs, InitC...     10  \n",
       "9773  [ZwQueryInformationFile, NtEnumerateValueKey, ...     11  \n",
       "4086  [GetModuleHandleW, GetLocalTime, GetComputerNa...     10  \n",
       "468   [LoadLibraryA, GetProcAddress, VirtualProtect,...      0  \n",
       "8480  [MethCallEngine, EVENT_SINK_AddRef, DllFunctio...     10  \n",
       "6111  [DeleteCriticalSection, EnterCriticalSection, ...     10  \n",
       "5535  [LoadLibraryA, GetProcAddress, VirtualProtect,...     10  \n",
       "7218  [DeleteCriticalSection, EnterCriticalSection, ...     10  \n",
       "6721  [LoadLibraryA, GetProcAddress, VirtualProtect,...     10  \n",
       "2503  [OutputDebugStringA, ZwCompareTokens, GetClipb...     11  "
      ]
     },
     "execution_count": 11,
     "metadata": {},
     "output_type": "execute_result"
    }
   ],
   "source": [
    "le = preprocessing.LabelEncoder()\n",
    "df['class'] = le.fit_transform(df['class'])\n",
    "df.sample(10)"
   ]
  },
  {
   "cell_type": "markdown",
   "id": "420fd20e",
   "metadata": {},
   "source": [
    "# Ingeniería de características"
   ]
  },
  {
   "cell_type": "code",
   "execution_count": 12,
   "id": "87e34f1d",
   "metadata": {},
   "outputs": [
    {
     "data": {
      "text/plain": [
       "\"\\ndummies = pd.Series()\\njump_value = 1000\\nmax_value = df['api'].count()\\n\\nfor i in range(0, max_value, jump_value):\\n    nxt = i + jump_value\\n    limit = nxt if nxt < max_value else None\\n    dummies_ext = df.iloc[i:limit]['api'].apply(pd.Series).stack().str.get_dummies().groupby(level=0).sum()\\n    dummies = pd.concat([dummies, dummies_ext])\\n    print(f'Transformed {nxt} - {len(dummies_ext.index)}')\\n\""
      ]
     },
     "execution_count": 12,
     "metadata": {},
     "output_type": "execute_result"
    }
   ],
   "source": [
    "'''\n",
    "dummies = pd.Series()\n",
    "jump_value = 1000\n",
    "max_value = df['api'].count()\n",
    "\n",
    "for i in range(0, max_value, jump_value):\n",
    "    nxt = i + jump_value\n",
    "    limit = nxt if nxt < max_value else None\n",
    "    dummies_ext = df.iloc[i:limit]['api'].apply(pd.Series).stack().str.get_dummies().groupby(level=0).sum()\n",
    "    dummies = pd.concat([dummies, dummies_ext])\n",
    "    print(f'Transformed {nxt} - {len(dummies_ext.index)}')\n",
    "'''"
   ]
  },
  {
   "cell_type": "code",
   "execution_count": 13,
   "id": "db72ebc3",
   "metadata": {},
   "outputs": [],
   "source": [
    "# dummies = dummies.fillna(0)\n",
    "# dummies"
   ]
  },
  {
   "cell_type": "code",
   "execution_count": 14,
   "id": "78a8f89a",
   "metadata": {},
   "outputs": [],
   "source": [
    "# dummies.to_csv('dummies.csv')"
   ]
  },
  {
   "cell_type": "code",
   "execution_count": 15,
   "id": "d67b9519",
   "metadata": {},
   "outputs": [],
   "source": [
    "dummies = pd.read_csv('dummies.csv')"
   ]
  },
  {
   "cell_type": "code",
   "execution_count": 16,
   "id": "3b8e9222",
   "metadata": {},
   "outputs": [
    {
     "data": {
      "text/plain": [
       "Index(['Unnamed: 0', '0', '??0?$basic_ios@DU?$char_traits@D@std@@@std@@IAE@XZ',\n",
       "       '??0?$basic_ios@DU?$char_traits@D@std@@@std@@IEAA@XZ',\n",
       "       '??0?$basic_istream@DU?$char_traits@D@std@@@std@@QEAA@PEAV?$basic_streambuf@DU?$char_traits@D@std@@@1@_N@Z',\n",
       "       '??0?$basic_ostream@DU?$char_traits@D@std@@@std@@QAE@PAV?$basic_streambuf@DU?$char_traits@D@std@@@1@_N@Z',\n",
       "       '??0?$basic_streambuf@DU?$char_traits@D@std@@@std@@IAE@XZ',\n",
       "       '??0?$basic_streambuf@DU?$char_traits@D@std@@@std@@IEAA@XZ',\n",
       "       '??0_Container_base12@std@@QAE@XZ', '??0_Locinfo@std@@QAE@HPBD@Z',\n",
       "       ...\n",
       "       'rtcIsArray', 'rtcIsMissing', 'rtcIsObject', 'rtcJoin', 'rtcLeftVar',\n",
       "       'rtcPackTime', 'rtcRandomNext', 'rtcVarBstrFromAnsi',\n",
       "       'rtcVarDateFromVar', 'wcscspn'],\n",
       "      dtype='object', length=7967)"
      ]
     },
     "execution_count": 16,
     "metadata": {},
     "output_type": "execute_result"
    }
   ],
   "source": [
    "col_names = dummies.columns\n",
    "col_names"
   ]
  },
  {
   "cell_type": "code",
   "execution_count": 17,
   "id": "8ba5cbbe",
   "metadata": {},
   "outputs": [
    {
     "data": {
      "text/html": [
       "<div>\n",
       "<style scoped>\n",
       "    .dataframe tbody tr th:only-of-type {\n",
       "        vertical-align: middle;\n",
       "    }\n",
       "\n",
       "    .dataframe tbody tr th {\n",
       "        vertical-align: top;\n",
       "    }\n",
       "\n",
       "    .dataframe thead th {\n",
       "        text-align: right;\n",
       "    }\n",
       "</style>\n",
       "<table border=\"1\" class=\"dataframe\">\n",
       "  <thead>\n",
       "    <tr style=\"text-align: right;\">\n",
       "      <th></th>\n",
       "      <th>class</th>\n",
       "      <th>??0?$basic_ios@DU?$char_traits@D@std@@@std@@IAE@XZ</th>\n",
       "      <th>??0?$basic_ios@DU?$char_traits@D@std@@@std@@IEAA@XZ</th>\n",
       "      <th>??0?$basic_istream@DU?$char_traits@D@std@@@std@@QEAA@PEAV?$basic_streambuf@DU?$char_traits@D@std@@@1@_N@Z</th>\n",
       "      <th>??0?$basic_ostream@DU?$char_traits@D@std@@@std@@QAE@PAV?$basic_streambuf@DU?$char_traits@D@std@@@1@_N@Z</th>\n",
       "      <th>??0?$basic_streambuf@DU?$char_traits@D@std@@@std@@IAE@XZ</th>\n",
       "      <th>??0?$basic_streambuf@DU?$char_traits@D@std@@@std@@IEAA@XZ</th>\n",
       "      <th>??0_Container_base12@std@@QAE@XZ</th>\n",
       "      <th>??0_Locinfo@std@@QAE@HPBD@Z</th>\n",
       "      <th>??0_Lockit@std@@QAE@H@Z</th>\n",
       "      <th>...</th>\n",
       "      <th>rtcIsArray</th>\n",
       "      <th>rtcIsMissing</th>\n",
       "      <th>rtcIsObject</th>\n",
       "      <th>rtcJoin</th>\n",
       "      <th>rtcLeftVar</th>\n",
       "      <th>rtcPackTime</th>\n",
       "      <th>rtcRandomNext</th>\n",
       "      <th>rtcVarBstrFromAnsi</th>\n",
       "      <th>rtcVarDateFromVar</th>\n",
       "      <th>wcscspn</th>\n",
       "    </tr>\n",
       "  </thead>\n",
       "  <tbody>\n",
       "    <tr>\n",
       "      <th>0</th>\n",
       "      <td>11</td>\n",
       "      <td>0.0</td>\n",
       "      <td>0.0</td>\n",
       "      <td>0.0</td>\n",
       "      <td>0.0</td>\n",
       "      <td>0.0</td>\n",
       "      <td>0.0</td>\n",
       "      <td>0.0</td>\n",
       "      <td>0.0</td>\n",
       "      <td>0.0</td>\n",
       "      <td>...</td>\n",
       "      <td>0.0</td>\n",
       "      <td>0.0</td>\n",
       "      <td>0.0</td>\n",
       "      <td>0.0</td>\n",
       "      <td>0.0</td>\n",
       "      <td>0.0</td>\n",
       "      <td>0.0</td>\n",
       "      <td>0.0</td>\n",
       "      <td>0.0</td>\n",
       "      <td>0.0</td>\n",
       "    </tr>\n",
       "    <tr>\n",
       "      <th>1</th>\n",
       "      <td>11</td>\n",
       "      <td>0.0</td>\n",
       "      <td>0.0</td>\n",
       "      <td>0.0</td>\n",
       "      <td>0.0</td>\n",
       "      <td>0.0</td>\n",
       "      <td>0.0</td>\n",
       "      <td>0.0</td>\n",
       "      <td>0.0</td>\n",
       "      <td>0.0</td>\n",
       "      <td>...</td>\n",
       "      <td>0.0</td>\n",
       "      <td>0.0</td>\n",
       "      <td>0.0</td>\n",
       "      <td>0.0</td>\n",
       "      <td>0.0</td>\n",
       "      <td>0.0</td>\n",
       "      <td>0.0</td>\n",
       "      <td>0.0</td>\n",
       "      <td>0.0</td>\n",
       "      <td>0.0</td>\n",
       "    </tr>\n",
       "    <tr>\n",
       "      <th>2</th>\n",
       "      <td>11</td>\n",
       "      <td>0.0</td>\n",
       "      <td>0.0</td>\n",
       "      <td>0.0</td>\n",
       "      <td>0.0</td>\n",
       "      <td>0.0</td>\n",
       "      <td>0.0</td>\n",
       "      <td>0.0</td>\n",
       "      <td>0.0</td>\n",
       "      <td>0.0</td>\n",
       "      <td>...</td>\n",
       "      <td>0.0</td>\n",
       "      <td>0.0</td>\n",
       "      <td>0.0</td>\n",
       "      <td>0.0</td>\n",
       "      <td>0.0</td>\n",
       "      <td>0.0</td>\n",
       "      <td>0.0</td>\n",
       "      <td>0.0</td>\n",
       "      <td>0.0</td>\n",
       "      <td>0.0</td>\n",
       "    </tr>\n",
       "    <tr>\n",
       "      <th>3</th>\n",
       "      <td>11</td>\n",
       "      <td>0.0</td>\n",
       "      <td>0.0</td>\n",
       "      <td>0.0</td>\n",
       "      <td>0.0</td>\n",
       "      <td>0.0</td>\n",
       "      <td>0.0</td>\n",
       "      <td>0.0</td>\n",
       "      <td>0.0</td>\n",
       "      <td>0.0</td>\n",
       "      <td>...</td>\n",
       "      <td>0.0</td>\n",
       "      <td>0.0</td>\n",
       "      <td>0.0</td>\n",
       "      <td>0.0</td>\n",
       "      <td>0.0</td>\n",
       "      <td>0.0</td>\n",
       "      <td>0.0</td>\n",
       "      <td>0.0</td>\n",
       "      <td>0.0</td>\n",
       "      <td>0.0</td>\n",
       "    </tr>\n",
       "    <tr>\n",
       "      <th>4</th>\n",
       "      <td>11</td>\n",
       "      <td>0.0</td>\n",
       "      <td>0.0</td>\n",
       "      <td>0.0</td>\n",
       "      <td>0.0</td>\n",
       "      <td>0.0</td>\n",
       "      <td>0.0</td>\n",
       "      <td>0.0</td>\n",
       "      <td>0.0</td>\n",
       "      <td>0.0</td>\n",
       "      <td>...</td>\n",
       "      <td>0.0</td>\n",
       "      <td>0.0</td>\n",
       "      <td>0.0</td>\n",
       "      <td>0.0</td>\n",
       "      <td>0.0</td>\n",
       "      <td>0.0</td>\n",
       "      <td>0.0</td>\n",
       "      <td>0.0</td>\n",
       "      <td>0.0</td>\n",
       "      <td>0.0</td>\n",
       "    </tr>\n",
       "  </tbody>\n",
       "</table>\n",
       "<p>5 rows × 7966 columns</p>\n",
       "</div>"
      ],
      "text/plain": [
       "   class  ??0?$basic_ios@DU?$char_traits@D@std@@@std@@IAE@XZ  \\\n",
       "0     11                                                0.0    \n",
       "1     11                                                0.0    \n",
       "2     11                                                0.0    \n",
       "3     11                                                0.0    \n",
       "4     11                                                0.0    \n",
       "\n",
       "   ??0?$basic_ios@DU?$char_traits@D@std@@@std@@IEAA@XZ  \\\n",
       "0                                                0.0     \n",
       "1                                                0.0     \n",
       "2                                                0.0     \n",
       "3                                                0.0     \n",
       "4                                                0.0     \n",
       "\n",
       "   ??0?$basic_istream@DU?$char_traits@D@std@@@std@@QEAA@PEAV?$basic_streambuf@DU?$char_traits@D@std@@@1@_N@Z  \\\n",
       "0                                                0.0                                                           \n",
       "1                                                0.0                                                           \n",
       "2                                                0.0                                                           \n",
       "3                                                0.0                                                           \n",
       "4                                                0.0                                                           \n",
       "\n",
       "   ??0?$basic_ostream@DU?$char_traits@D@std@@@std@@QAE@PAV?$basic_streambuf@DU?$char_traits@D@std@@@1@_N@Z  \\\n",
       "0                                                0.0                                                         \n",
       "1                                                0.0                                                         \n",
       "2                                                0.0                                                         \n",
       "3                                                0.0                                                         \n",
       "4                                                0.0                                                         \n",
       "\n",
       "   ??0?$basic_streambuf@DU?$char_traits@D@std@@@std@@IAE@XZ  \\\n",
       "0                                                0.0          \n",
       "1                                                0.0          \n",
       "2                                                0.0          \n",
       "3                                                0.0          \n",
       "4                                                0.0          \n",
       "\n",
       "   ??0?$basic_streambuf@DU?$char_traits@D@std@@@std@@IEAA@XZ  \\\n",
       "0                                                0.0           \n",
       "1                                                0.0           \n",
       "2                                                0.0           \n",
       "3                                                0.0           \n",
       "4                                                0.0           \n",
       "\n",
       "   ??0_Container_base12@std@@QAE@XZ  ??0_Locinfo@std@@QAE@HPBD@Z  \\\n",
       "0                               0.0                          0.0   \n",
       "1                               0.0                          0.0   \n",
       "2                               0.0                          0.0   \n",
       "3                               0.0                          0.0   \n",
       "4                               0.0                          0.0   \n",
       "\n",
       "   ??0_Lockit@std@@QAE@H@Z  ...  rtcIsArray  rtcIsMissing  rtcIsObject  \\\n",
       "0                      0.0  ...         0.0           0.0          0.0   \n",
       "1                      0.0  ...         0.0           0.0          0.0   \n",
       "2                      0.0  ...         0.0           0.0          0.0   \n",
       "3                      0.0  ...         0.0           0.0          0.0   \n",
       "4                      0.0  ...         0.0           0.0          0.0   \n",
       "\n",
       "   rtcJoin  rtcLeftVar  rtcPackTime  rtcRandomNext  rtcVarBstrFromAnsi  \\\n",
       "0      0.0         0.0          0.0            0.0                 0.0   \n",
       "1      0.0         0.0          0.0            0.0                 0.0   \n",
       "2      0.0         0.0          0.0            0.0                 0.0   \n",
       "3      0.0         0.0          0.0            0.0                 0.0   \n",
       "4      0.0         0.0          0.0            0.0                 0.0   \n",
       "\n",
       "   rtcVarDateFromVar  wcscspn  \n",
       "0                0.0      0.0  \n",
       "1                0.0      0.0  \n",
       "2                0.0      0.0  \n",
       "3                0.0      0.0  \n",
       "4                0.0      0.0  \n",
       "\n",
       "[5 rows x 7966 columns]"
      ]
     },
     "execution_count": 17,
     "metadata": {},
     "output_type": "execute_result"
    }
   ],
   "source": [
    "df = pd.concat([df, dummies], axis=1)\n",
    "del df['Unnamed: 0']\n",
    "del df['0']\n",
    "del df['api']\n",
    "del df['file']\n",
    "df.head()"
   ]
  },
  {
   "cell_type": "markdown",
   "id": "5bb686b4",
   "metadata": {},
   "source": [
    "# Modelo 1: Support Vector Machine"
   ]
  },
  {
   "cell_type": "markdown",
   "id": "8ae78355",
   "metadata": {},
   "source": [
    "## Implementación y validación"
   ]
  },
  {
   "cell_type": "markdown",
   "id": "b17945bc",
   "metadata": {},
   "source": [
    "Split data"
   ]
  },
  {
   "cell_type": "code",
   "execution_count": 18,
   "id": "9528d99c",
   "metadata": {},
   "outputs": [],
   "source": [
    "X = df.loc[:, df.columns != 'class']\n",
    "y = df['class']\n",
    "\n",
    "X_train, X_test, y_train, y_test = train_test_split(X, y, test_size=0.3, random_state=100)"
   ]
  },
  {
   "cell_type": "markdown",
   "id": "49692eaf",
   "metadata": {},
   "source": [
    "Crear y entrenar el modelo"
   ]
  },
  {
   "cell_type": "code",
   "execution_count": 19,
   "id": "91e3bd24",
   "metadata": {},
   "outputs": [
    {
     "data": {
      "text/plain": [
       "SVC(kernel='linear')"
      ]
     },
     "execution_count": 19,
     "metadata": {},
     "output_type": "execute_result"
    }
   ],
   "source": [
    "clf = SVC(kernel='linear')\n",
    "clf.fit(X_train, y_train)"
   ]
  },
  {
   "cell_type": "markdown",
   "id": "2cb5d9c4",
   "metadata": {},
   "source": [
    "Validar predicciones"
   ]
  },
  {
   "cell_type": "code",
   "execution_count": 20,
   "id": "35a83e67",
   "metadata": {},
   "outputs": [],
   "source": [
    "y_pred = clf.predict(X_test)"
   ]
  },
  {
   "cell_type": "markdown",
   "id": "2f2737b0",
   "metadata": {},
   "source": [
    "## Validación cruzada"
   ]
  },
  {
   "cell_type": "code",
   "execution_count": 21,
   "id": "e60a3db7",
   "metadata": {},
   "outputs": [
    {
     "name": "stderr",
     "output_type": "stream",
     "text": [
      "/home/walt/.local/lib/python3.9/site-packages/sklearn/model_selection/_split.py:676: UserWarning: The least populated class in y has only 1 members, which is less than n_splits=10.\n",
      "  warnings.warn(\n"
     ]
    },
    {
     "name": "stdout",
     "output_type": "stream",
     "text": [
      "Cross Validation Scores:  [0.94693878 0.95918367 0.93877551 0.93469388 0.93265306 0.93054137\n",
      " 0.93564862 0.93769152 0.93667007 0.94484168]\n",
      "Average CV Score:  0.9397638156386151\n",
      "Number of CV Scores used in Average:  10\n"
     ]
    }
   ],
   "source": [
    "# k_folds = KFold(n_splits = 10)\n",
    "scores = cross_val_score(clf, X, y, cv = 10)\n",
    "\n",
    "print(\"Cross Validation Scores: \", scores)\n",
    "print(\"Average CV Score: \", scores.mean())\n",
    "print(\"Number of CV Scores used in Average: \", len(scores))"
   ]
  },
  {
   "cell_type": "markdown",
   "id": "ef2152a3",
   "metadata": {},
   "source": [
    "## Métricas"
   ]
  },
  {
   "cell_type": "code",
   "execution_count": 23,
   "id": "afa565cd",
   "metadata": {},
   "outputs": [
    {
     "data": {
      "text/plain": [
       "0.9445389588295339"
      ]
     },
     "execution_count": 23,
     "metadata": {},
     "output_type": "execute_result"
    }
   ],
   "source": [
    "accuracy_score(y_test, y_pred)"
   ]
  },
  {
   "cell_type": "code",
   "execution_count": 30,
   "id": "ec569ceb",
   "metadata": {},
   "outputs": [
    {
     "data": {
      "text/plain": [
       "0.9405462285134326"
      ]
     },
     "execution_count": 30,
     "metadata": {},
     "output_type": "execute_result"
    }
   ],
   "source": [
    "precision_score(y_test, y_pred, average='weighted', zero_division=False)"
   ]
  },
  {
   "cell_type": "code",
   "execution_count": 31,
   "id": "f66d603f",
   "metadata": {},
   "outputs": [
    {
     "data": {
      "text/plain": [
       "0.9445389588295339"
      ]
     },
     "execution_count": 31,
     "metadata": {},
     "output_type": "execute_result"
    }
   ],
   "source": [
    "recall_score(y_test, y_pred, average='weighted', zero_division=False)"
   ]
  },
  {
   "cell_type": "markdown",
   "id": "be5ebf41",
   "metadata": {},
   "source": [
    "# Modelo 2: Extreme Gradient Booster"
   ]
  },
  {
   "cell_type": "markdown",
   "id": "cb5c77b2",
   "metadata": {},
   "source": [
    "## Implementación y validación"
   ]
  },
  {
   "cell_type": "code",
   "execution_count": 82,
   "id": "8be83a9b",
   "metadata": {},
   "outputs": [],
   "source": [
    "bst = XGBClassifier(n_estimators=10, max_depth=2, learning_rate=1, objective='hist')"
   ]
  },
  {
   "cell_type": "code",
   "execution_count": 83,
   "id": "4660eba1",
   "metadata": {},
   "outputs": [
    {
     "name": "stderr",
     "output_type": "stream",
     "text": [
      "/home/walt/.local/lib/python3.9/site-packages/xgboost/sklearn.py:1146: UserWarning: The use of label encoder in XGBClassifier is deprecated and will be removed in a future release. To remove this warning, do the following: 1) Pass option use_label_encoder=False when constructing XGBClassifier object; and 2) Encode your labels (y) as integers starting with 0, i.e. 0, 1, 2, ..., [num_class - 1].\n",
      "  warnings.warn(label_encoder_deprecation_msg, UserWarning)\n",
      "/home/walt/.local/lib/python3.9/site-packages/xgboost/data.py:208: FutureWarning: pandas.Int64Index is deprecated and will be removed from pandas in a future version. Use pandas.Index with the appropriate dtype instead.\n",
      "  from pandas import MultiIndex, Int64Index\n"
     ]
    },
    {
     "name": "stdout",
     "output_type": "stream",
     "text": [
      "[20:50:29] WARNING: ../src/learner.cc:1095: Starting in XGBoost 1.3.0, the default evaluation metric used with the objective 'multi:softprob' was changed from 'merror' to 'mlogloss'. Explicitly set eval_metric if you'd like to restore the old behavior.\n"
     ]
    },
    {
     "data": {
      "text/plain": [
       "XGBClassifier(base_score=0.5, booster='gbtree', colsample_bylevel=1,\n",
       "              colsample_bynode=1, colsample_bytree=1, gamma=0, gpu_id=-1,\n",
       "              importance_type='gain', interaction_constraints='',\n",
       "              learning_rate=1, max_delta_step=0, max_depth=2,\n",
       "              min_child_weight=1, missing=nan, monotone_constraints='()',\n",
       "              n_estimators=10, n_jobs=12, num_parallel_tree=1,\n",
       "              objective='multi:softprob', random_state=0, reg_alpha=0,\n",
       "              reg_lambda=1, scale_pos_weight=None, subsample=1,\n",
       "              tree_method='exact', validate_parameters=1, verbosity=None)"
      ]
     },
     "execution_count": 83,
     "metadata": {},
     "output_type": "execute_result"
    }
   ],
   "source": [
    "bst.fit(X_train, y_train)"
   ]
  },
  {
   "cell_type": "code",
   "execution_count": 84,
   "id": "ee593ef3",
   "metadata": {},
   "outputs": [],
   "source": [
    "y_pred_xgb = bst.predict(X_test)"
   ]
  },
  {
   "cell_type": "markdown",
   "id": "b1a7128a",
   "metadata": {},
   "source": [
    "## Validación cruzada"
   ]
  },
  {
   "cell_type": "code",
   "execution_count": null,
   "id": "055e1299",
   "metadata": {},
   "outputs": [],
   "source": []
  },
  {
   "cell_type": "markdown",
   "id": "050ddb01",
   "metadata": {},
   "source": [
    "## Métricas"
   ]
  },
  {
   "cell_type": "code",
   "execution_count": 85,
   "id": "5a08f27c",
   "metadata": {},
   "outputs": [
    {
     "data": {
      "text/plain": [
       "0.9118747873426335"
      ]
     },
     "execution_count": 85,
     "metadata": {},
     "output_type": "execute_result"
    }
   ],
   "source": [
    "accuracy_score(y_test, y_pred_xgb)"
   ]
  },
  {
   "cell_type": "code",
   "execution_count": 86,
   "id": "9a6d785b",
   "metadata": {},
   "outputs": [
    {
     "data": {
      "text/plain": [
       "0.8970088120384435"
      ]
     },
     "execution_count": 86,
     "metadata": {},
     "output_type": "execute_result"
    }
   ],
   "source": [
    "precision_score(y_test, y_pred_xgb, average='weighted', zero_division=False)"
   ]
  },
  {
   "cell_type": "code",
   "execution_count": 87,
   "id": "872a0e3e",
   "metadata": {},
   "outputs": [
    {
     "data": {
      "text/plain": [
       "0.9118747873426335"
      ]
     },
     "execution_count": 87,
     "metadata": {},
     "output_type": "execute_result"
    }
   ],
   "source": [
    "recall_score(y_test, y_pred_xgb, average='weighted', zero_division=False)"
   ]
  },
  {
   "cell_type": "markdown",
   "id": "193ea4a4",
   "metadata": {},
   "source": [
    "___\n",
    "# Conclusiones\n",
    "**El artículo “New Datasets for Dinamyc Malware Classification” sirve como un benchmark para comparar modelos de clasificación, ¿se lograron obtener mejores métricas que las obtenidas en el artículo para la clasificación de malware?**"
   ]
  },
  {
   "cell_type": "markdown",
   "id": "f990920b",
   "metadata": {},
   "source": []
  }
 ],
 "metadata": {
  "kernelspec": {
   "display_name": "Python 3 (ipykernel)",
   "language": "python",
   "name": "python3"
  },
  "language_info": {
   "codemirror_mode": {
    "name": "ipython",
    "version": 3
   },
   "file_extension": ".py",
   "mimetype": "text/x-python",
   "name": "python",
   "nbconvert_exporter": "python",
   "pygments_lexer": "ipython3",
   "version": "3.9.5"
  }
 },
 "nbformat": 4,
 "nbformat_minor": 5
}
